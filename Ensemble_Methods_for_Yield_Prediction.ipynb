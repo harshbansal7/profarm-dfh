{
  "cells": [
    {
      "cell_type": "markdown",
      "metadata": {
        "id": "view-in-github",
        "colab_type": "text"
      },
      "source": [
        "<a href=\"https://colab.research.google.com/github/harshbansal7/profarm-dvh/blob/main/Ensemble_Methods_for_Yield_Prediction.ipynb\" target=\"_parent\"><img src=\"https://colab.research.google.com/assets/colab-badge.svg\" alt=\"Open In Colab\"/></a>"
      ]
    },
    {
      "cell_type": "markdown",
      "id": "15ae4d35",
      "metadata": {
        "id": "15ae4d35"
      },
      "source": [
        "## Crop Yield Prediction based on DecisionTreeRegression\n",
        "\n",
        "#### Importing all required libraries and CSV Dataset"
      ]
    },
    {
      "cell_type": "code",
      "execution_count": 1,
      "id": "4b92917e",
      "metadata": {
        "id": "4b92917e",
        "outputId": "fb423ce1-94ef-44df-ecef-1b66dca7adb7",
        "colab": {
          "base_uri": "https://localhost:8080/"
        }
      },
      "outputs": [
        {
          "output_type": "stream",
          "name": "stdout",
          "text": [
            "<class 'pandas.core.frame.DataFrame'>\n",
            "RangeIndex: 676425 entries, 0 to 676424\n",
            "Data columns (total 10 columns):\n",
            " #   Column            Non-Null Count   Dtype  \n",
            "---  ------            --------------   -----  \n",
            " 0   State             676425 non-null  object \n",
            " 1   District          676425 non-null  object \n",
            " 2   Crop              675458 non-null  object \n",
            " 3   Year              676425 non-null  object \n",
            " 4   Season            676425 non-null  object \n",
            " 5   Area              675458 non-null  float64\n",
            " 6   Area Units        675458 non-null  object \n",
            " 7   Production        665684 non-null  float64\n",
            " 8   Production Units  675458 non-null  object \n",
            " 9   Yield             675458 non-null  float64\n",
            "dtypes: float64(3), object(7)\n",
            "memory usage: 51.6+ MB\n"
          ]
        },
        {
          "output_type": "execute_result",
          "data": {
            "text/plain": [
              "State                   35\n",
              "District               709\n",
              "Crop                    56\n",
              "Year                    23\n",
              "Season                   6\n",
              "Area                 47390\n",
              "Area Units               1\n",
              "Production           67906\n",
              "Production Units         3\n",
              "Yield               193205\n",
              "dtype: int64"
            ]
          },
          "metadata": {},
          "execution_count": 1
        }
      ],
      "source": [
        "import numpy as np\n",
        "import pandas as pd # to make dataframes\n",
        "import matplotlib.pyplot as plt # to visualize data (using plots)\n",
        "import seaborn as sns # also for visualization\n",
        "from sklearn import model_selection\n",
        "from sklearn.model_selection import train_test_split # splitting data into test-train sections\n",
        "from sklearn.tree import DecisionTreeRegressor # the actual Decision Maker\n",
        "from sklearn import metrics # to calculate Accuracy of the Model\n",
        "\n",
        "df = pd.read_csv('https://raw.githubusercontent.com/harshbansal7/profarm-dvh/main/Datasets%20and%20Notebooks/main2.csv') # importing dataset to a dataframe\n",
        "df.info()\n",
        "df.nunique()"
      ]
    },
    {
      "cell_type": "markdown",
      "id": "437197db",
      "metadata": {
        "id": "437197db"
      },
      "source": [
        "#### Cleaning Data \n",
        "\n",
        "1. Removing Rows with any NaN entry.\n",
        "2. Sorting data in Descending Order of Year for better understanding.\n",
        "3. `Production, Production Units, Area, Area Units` colums were dropped.\n"
      ]
    },
    {
      "cell_type": "code",
      "execution_count": 2,
      "id": "d8e36595",
      "metadata": {
        "id": "d8e36595"
      },
      "outputs": [],
      "source": [
        "df = df.dropna()\n",
        "df = df.sort_values(ascending=False, by='Year') \n",
        "\n",
        "df = df.drop('Area Units', axis=1)\n",
        "df = df.drop('Production', axis=1)\n",
        "df = df.drop('Production Units', axis=1)\n",
        "df = df.drop('Area', axis=1)\n",
        "\n",
        "# df = df[df['Year'].str.split('-').str[0].astype(int) >= 2010]"
      ]
    },
    {
      "cell_type": "markdown",
      "id": "2bd81fc1",
      "metadata": {
        "id": "2bd81fc1"
      },
      "source": [
        "#### More Cleaning and handling String Entries (using Categories)\n",
        "\n",
        "- Season cleaned up to remove disparities. \n",
        "- CSV Saved to have a Light Weight Dataset for quicker processing. \n",
        "- Converting `Year, State, Season, District, Crop` to Categorical Variables for better analysis.\n",
        "- Printing Arrays of Categorical Entries for reference "
      ]
    },
    {
      "cell_type": "code",
      "execution_count": 3,
      "id": "0e4c491e",
      "metadata": {
        "scrolled": true,
        "id": "0e4c491e",
        "outputId": "4cb7246e-35b8-47b1-924f-33fc16522929",
        "colab": {
          "base_uri": "https://localhost:8080/",
          "height": 1000
        }
      },
      "outputs": [
        {
          "output_type": "stream",
          "name": "stdout",
          "text": [
            "Index(['1997-98', '1998-99', '1999-00', '2000-01', '2001-02', '2002-03',\n",
            "       '2003-04', '2004-05', '2005-06', '2006-07', '2007-08', '2008-09',\n",
            "       '2009-10', '2010-11', '2011-12', '2012-13', '2013-14', '2014-15',\n",
            "       '2015-16', '2016-17', '2017-18', '2018-19', '2019-20'],\n",
            "      dtype='object')\n",
            "Index(['Andaman and Nicobar Islands', 'Andhra Pradesh', 'Arunachal Pradesh',\n",
            "       'Assam', 'Bihar', 'Chandigarh', 'Chhattisgarh',\n",
            "       'Dadra and Nagar Haveli', 'Daman and Diu', 'Delhi', 'Goa', 'Gujarat',\n",
            "       'Haryana', 'Himachal Pradesh', 'Jammu and Kashmir', 'Jharkhand',\n",
            "       'Karnataka', 'Kerala', 'Madhya Pradesh', 'Maharashtra', 'Manipur',\n",
            "       'Meghalaya', 'Mizoram', 'Nagaland', 'Odisha', 'Puducherry', 'Punjab',\n",
            "       'Rajasthan', 'Sikkim', 'Tamil Nadu', 'Telangana', 'Tripura',\n",
            "       'Uttar Pradesh', 'Uttarakhand', 'West Bengal'],\n",
            "      dtype='object')\n",
            "Index(['24 PARAGANAS NORTH', '24 PARAGANAS SOUTH', 'ADILABAD', 'AGAR MALWA',\n",
            "       'AGRA', 'AHMADABAD', 'AHMEDNAGAR', 'AIZAWL', 'AJMER', 'AKOLA',\n",
            "       ...\n",
            "       'WEST SIANG', 'WEST SINGHBHUM', 'WEST TRIPURA', 'WOKHA', 'YADADRI',\n",
            "       'YADGIR', 'YAMUNANAGAR', 'YANAM', 'YAVATMAL', 'ZUNHEBOTO'],\n",
            "      dtype='object', length=709)\n",
            "Index(['Kharif', 'Rabi', 'Whole Year', 'Zaid'], dtype='object')\n",
            "Index(['Arecanut', 'Arhar/Tur', 'Bajra', 'Banana', 'Barley', 'Black pepper',\n",
            "       'Cardamom', 'Cashewnut', 'Castor seed', 'Coconut', 'Coriander',\n",
            "       'Cotton(lint)', 'Cowpea(Lobia)', 'Dry Ginger', 'Dry chillies', 'Garlic',\n",
            "       'Ginger', 'Gram', 'Groundnut', 'Guar seed', 'Horse-gram', 'Jowar',\n",
            "       'Jute', 'Khesari', 'Linseed', 'Maize', 'Masoor', 'Mesta',\n",
            "       'Moong(Green Gram)', 'Moth', 'Niger seed', 'Oilseeds total', 'Onion',\n",
            "       'Other Cereals', 'Other Kharif pulses', 'Other Rabi pulses',\n",
            "       'Other Summer Pulses', 'Peas & beans (Pulses)', 'Potato', 'Ragi',\n",
            "       'Rapeseed &Mustard', 'Rice', 'Safflower', 'Sannhamp', 'Sesamum',\n",
            "       'Small millets', 'Soyabean', 'Sugarcane', 'Sunflower', 'Sweet potato',\n",
            "       'Tapioca', 'Tobacco', 'Turmeric', 'Urad', 'Wheat', 'other oilseeds'],\n",
            "      dtype='object')\n"
          ]
        },
        {
          "output_type": "execute_result",
          "data": {
            "text/plain": [
              "                 State   District           Crop     Year      Season  \\\n",
              "287384      Tamil Nadu      KARUR          Jowar  2019-20        Rabi   \n",
              "621290  Madhya Pradesh       REWA         Banana  2019-20  Whole Year   \n",
              "285525        Nagaland    DIMAPUR        Sesamum  2019-20      Kharif   \n",
              "285524        Nagaland  ZUNHEBOTO           Rice  2019-20      Kharif   \n",
              "621340  Madhya Pradesh    ANUPPUR      Coriander  2019-20  Whole Year   \n",
              "...                ...        ...            ...      ...         ...   \n",
              "659314          Odisha  SAMBALPUR           Urad  1997-98        Rabi   \n",
              "659313          Odisha  SAMBALPUR           Urad  1997-98        Zaid   \n",
              "659312          Odisha  SAMBALPUR           Urad  1997-98      Kharif   \n",
              "333429   Uttar Pradesh     HARDOI  Small millets  1997-98      Kharif   \n",
              "321343          Odisha    BARGARH           Urad  1997-98        Zaid   \n",
              "\n",
              "            Yield  \n",
              "287384   0.407208  \n",
              "621290  35.300000  \n",
              "285525   0.617691  \n",
              "285524   2.336540  \n",
              "621340   1.800008  \n",
              "...           ...  \n",
              "659314   0.261665  \n",
              "659313   0.571429  \n",
              "659312   0.311966  \n",
              "333429   0.777778  \n",
              "321343   0.357143  \n",
              "\n",
              "[665684 rows x 6 columns]"
            ],
            "text/html": [
              "\n",
              "  <div id=\"df-152b800e-820f-450e-a029-b4295c5de42d\">\n",
              "    <div class=\"colab-df-container\">\n",
              "      <div>\n",
              "<style scoped>\n",
              "    .dataframe tbody tr th:only-of-type {\n",
              "        vertical-align: middle;\n",
              "    }\n",
              "\n",
              "    .dataframe tbody tr th {\n",
              "        vertical-align: top;\n",
              "    }\n",
              "\n",
              "    .dataframe thead th {\n",
              "        text-align: right;\n",
              "    }\n",
              "</style>\n",
              "<table border=\"1\" class=\"dataframe\">\n",
              "  <thead>\n",
              "    <tr style=\"text-align: right;\">\n",
              "      <th></th>\n",
              "      <th>State</th>\n",
              "      <th>District</th>\n",
              "      <th>Crop</th>\n",
              "      <th>Year</th>\n",
              "      <th>Season</th>\n",
              "      <th>Yield</th>\n",
              "    </tr>\n",
              "  </thead>\n",
              "  <tbody>\n",
              "    <tr>\n",
              "      <th>287384</th>\n",
              "      <td>Tamil Nadu</td>\n",
              "      <td>KARUR</td>\n",
              "      <td>Jowar</td>\n",
              "      <td>2019-20</td>\n",
              "      <td>Rabi</td>\n",
              "      <td>0.407208</td>\n",
              "    </tr>\n",
              "    <tr>\n",
              "      <th>621290</th>\n",
              "      <td>Madhya Pradesh</td>\n",
              "      <td>REWA</td>\n",
              "      <td>Banana</td>\n",
              "      <td>2019-20</td>\n",
              "      <td>Whole Year</td>\n",
              "      <td>35.300000</td>\n",
              "    </tr>\n",
              "    <tr>\n",
              "      <th>285525</th>\n",
              "      <td>Nagaland</td>\n",
              "      <td>DIMAPUR</td>\n",
              "      <td>Sesamum</td>\n",
              "      <td>2019-20</td>\n",
              "      <td>Kharif</td>\n",
              "      <td>0.617691</td>\n",
              "    </tr>\n",
              "    <tr>\n",
              "      <th>285524</th>\n",
              "      <td>Nagaland</td>\n",
              "      <td>ZUNHEBOTO</td>\n",
              "      <td>Rice</td>\n",
              "      <td>2019-20</td>\n",
              "      <td>Kharif</td>\n",
              "      <td>2.336540</td>\n",
              "    </tr>\n",
              "    <tr>\n",
              "      <th>621340</th>\n",
              "      <td>Madhya Pradesh</td>\n",
              "      <td>ANUPPUR</td>\n",
              "      <td>Coriander</td>\n",
              "      <td>2019-20</td>\n",
              "      <td>Whole Year</td>\n",
              "      <td>1.800008</td>\n",
              "    </tr>\n",
              "    <tr>\n",
              "      <th>...</th>\n",
              "      <td>...</td>\n",
              "      <td>...</td>\n",
              "      <td>...</td>\n",
              "      <td>...</td>\n",
              "      <td>...</td>\n",
              "      <td>...</td>\n",
              "    </tr>\n",
              "    <tr>\n",
              "      <th>659314</th>\n",
              "      <td>Odisha</td>\n",
              "      <td>SAMBALPUR</td>\n",
              "      <td>Urad</td>\n",
              "      <td>1997-98</td>\n",
              "      <td>Rabi</td>\n",
              "      <td>0.261665</td>\n",
              "    </tr>\n",
              "    <tr>\n",
              "      <th>659313</th>\n",
              "      <td>Odisha</td>\n",
              "      <td>SAMBALPUR</td>\n",
              "      <td>Urad</td>\n",
              "      <td>1997-98</td>\n",
              "      <td>Zaid</td>\n",
              "      <td>0.571429</td>\n",
              "    </tr>\n",
              "    <tr>\n",
              "      <th>659312</th>\n",
              "      <td>Odisha</td>\n",
              "      <td>SAMBALPUR</td>\n",
              "      <td>Urad</td>\n",
              "      <td>1997-98</td>\n",
              "      <td>Kharif</td>\n",
              "      <td>0.311966</td>\n",
              "    </tr>\n",
              "    <tr>\n",
              "      <th>333429</th>\n",
              "      <td>Uttar Pradesh</td>\n",
              "      <td>HARDOI</td>\n",
              "      <td>Small millets</td>\n",
              "      <td>1997-98</td>\n",
              "      <td>Kharif</td>\n",
              "      <td>0.777778</td>\n",
              "    </tr>\n",
              "    <tr>\n",
              "      <th>321343</th>\n",
              "      <td>Odisha</td>\n",
              "      <td>BARGARH</td>\n",
              "      <td>Urad</td>\n",
              "      <td>1997-98</td>\n",
              "      <td>Zaid</td>\n",
              "      <td>0.357143</td>\n",
              "    </tr>\n",
              "  </tbody>\n",
              "</table>\n",
              "<p>665684 rows × 6 columns</p>\n",
              "</div>\n",
              "      <button class=\"colab-df-convert\" onclick=\"convertToInteractive('df-152b800e-820f-450e-a029-b4295c5de42d')\"\n",
              "              title=\"Convert this dataframe to an interactive table.\"\n",
              "              style=\"display:none;\">\n",
              "        \n",
              "  <svg xmlns=\"http://www.w3.org/2000/svg\" height=\"24px\"viewBox=\"0 0 24 24\"\n",
              "       width=\"24px\">\n",
              "    <path d=\"M0 0h24v24H0V0z\" fill=\"none\"/>\n",
              "    <path d=\"M18.56 5.44l.94 2.06.94-2.06 2.06-.94-2.06-.94-.94-2.06-.94 2.06-2.06.94zm-11 1L8.5 8.5l.94-2.06 2.06-.94-2.06-.94L8.5 2.5l-.94 2.06-2.06.94zm10 10l.94 2.06.94-2.06 2.06-.94-2.06-.94-.94-2.06-.94 2.06-2.06.94z\"/><path d=\"M17.41 7.96l-1.37-1.37c-.4-.4-.92-.59-1.43-.59-.52 0-1.04.2-1.43.59L10.3 9.45l-7.72 7.72c-.78.78-.78 2.05 0 2.83L4 21.41c.39.39.9.59 1.41.59.51 0 1.02-.2 1.41-.59l7.78-7.78 2.81-2.81c.8-.78.8-2.07 0-2.86zM5.41 20L4 18.59l7.72-7.72 1.47 1.35L5.41 20z\"/>\n",
              "  </svg>\n",
              "      </button>\n",
              "      \n",
              "  <style>\n",
              "    .colab-df-container {\n",
              "      display:flex;\n",
              "      flex-wrap:wrap;\n",
              "      gap: 12px;\n",
              "    }\n",
              "\n",
              "    .colab-df-convert {\n",
              "      background-color: #E8F0FE;\n",
              "      border: none;\n",
              "      border-radius: 50%;\n",
              "      cursor: pointer;\n",
              "      display: none;\n",
              "      fill: #1967D2;\n",
              "      height: 32px;\n",
              "      padding: 0 0 0 0;\n",
              "      width: 32px;\n",
              "    }\n",
              "\n",
              "    .colab-df-convert:hover {\n",
              "      background-color: #E2EBFA;\n",
              "      box-shadow: 0px 1px 2px rgba(60, 64, 67, 0.3), 0px 1px 3px 1px rgba(60, 64, 67, 0.15);\n",
              "      fill: #174EA6;\n",
              "    }\n",
              "\n",
              "    [theme=dark] .colab-df-convert {\n",
              "      background-color: #3B4455;\n",
              "      fill: #D2E3FC;\n",
              "    }\n",
              "\n",
              "    [theme=dark] .colab-df-convert:hover {\n",
              "      background-color: #434B5C;\n",
              "      box-shadow: 0px 1px 3px 1px rgba(0, 0, 0, 0.15);\n",
              "      filter: drop-shadow(0px 1px 2px rgba(0, 0, 0, 0.3));\n",
              "      fill: #FFFFFF;\n",
              "    }\n",
              "  </style>\n",
              "\n",
              "      <script>\n",
              "        const buttonEl =\n",
              "          document.querySelector('#df-152b800e-820f-450e-a029-b4295c5de42d button.colab-df-convert');\n",
              "        buttonEl.style.display =\n",
              "          google.colab.kernel.accessAllowed ? 'block' : 'none';\n",
              "\n",
              "        async function convertToInteractive(key) {\n",
              "          const element = document.querySelector('#df-152b800e-820f-450e-a029-b4295c5de42d');\n",
              "          const dataTable =\n",
              "            await google.colab.kernel.invokeFunction('convertToInteractive',\n",
              "                                                     [key], {});\n",
              "          if (!dataTable) return;\n",
              "\n",
              "          const docLinkHtml = 'Like what you see? Visit the ' +\n",
              "            '<a target=\"_blank\" href=https://colab.research.google.com/notebooks/data_table.ipynb>data table notebook</a>'\n",
              "            + ' to learn more about interactive tables.';\n",
              "          element.innerHTML = '';\n",
              "          dataTable['output_type'] = 'display_data';\n",
              "          await google.colab.output.renderOutput(dataTable, element);\n",
              "          const docLink = document.createElement('div');\n",
              "          docLink.innerHTML = docLinkHtml;\n",
              "          element.appendChild(docLink);\n",
              "        }\n",
              "      </script>\n",
              "    </div>\n",
              "  </div>\n",
              "  "
            ]
          },
          "metadata": {},
          "execution_count": 3
        }
      ],
      "source": [
        "df = df.replace({'Season':{'Autumn':'Kharif','Summer':'Zaid','Winter':'Rabi'}})\n",
        "\n",
        "df.to_csv('yield_cleaned_2.csv')\n",
        "\n",
        "df['Year'] = pd.Categorical(df['Year'], ordered = True)\n",
        "df['State'] = pd.Categorical(df['State'], ordered = True)\n",
        "df['District'] = pd.Categorical(df['District'], ordered = True)\n",
        "df['Season'] = pd.Categorical(df['Season'], ordered = True)\n",
        "df['Crop'] = pd.Categorical(df['Crop'], ordered = True)\n",
        "\n",
        "print (df['Year'].cat.categories)\n",
        "print (df['State'].cat.categories)\n",
        "print (df['District'].cat.categories)\n",
        "print (df['Season'].cat.categories)\n",
        "print (df['Crop'].cat.categories)\n",
        "\n",
        "df"
      ]
    },
    {
      "cell_type": "markdown",
      "id": "8fab4d5a",
      "metadata": {
        "id": "8fab4d5a"
      },
      "source": [
        "#### Converting Categorical Columns to Integer Codes"
      ]
    },
    {
      "cell_type": "code",
      "execution_count": 4,
      "id": "4362afa7",
      "metadata": {
        "id": "4362afa7",
        "outputId": "de97a893-1cb4-4504-c7e9-ac5aad7df476",
        "colab": {
          "base_uri": "https://localhost:8080/",
          "height": 424
        }
      },
      "outputs": [
        {
          "output_type": "execute_result",
          "data": {
            "text/plain": [
              "        State  District  Crop  Year  Season      Yield\n",
              "287384     29       325    21    22       1   0.407208\n",
              "621290     18       544     3    22       2  35.300000\n",
              "285525     23       173    44    22       0   0.617691\n",
              "285524     23       708    41    22       0   2.336540\n",
              "621340     18        29    10    22       2   1.800008\n",
              "...       ...       ...   ...   ...     ...        ...\n",
              "659314     24       561    53     0       1   0.261665\n",
              "659313     24       561    53     0       3   0.571429\n",
              "659312     24       561    53     0       0   0.311966\n",
              "333429     32       244    45     0       0   0.777778\n",
              "321343     24        63    53     0       3   0.357143\n",
              "\n",
              "[665684 rows x 6 columns]"
            ],
            "text/html": [
              "\n",
              "  <div id=\"df-53d149b8-2744-4e81-a1c8-64f058007f0a\">\n",
              "    <div class=\"colab-df-container\">\n",
              "      <div>\n",
              "<style scoped>\n",
              "    .dataframe tbody tr th:only-of-type {\n",
              "        vertical-align: middle;\n",
              "    }\n",
              "\n",
              "    .dataframe tbody tr th {\n",
              "        vertical-align: top;\n",
              "    }\n",
              "\n",
              "    .dataframe thead th {\n",
              "        text-align: right;\n",
              "    }\n",
              "</style>\n",
              "<table border=\"1\" class=\"dataframe\">\n",
              "  <thead>\n",
              "    <tr style=\"text-align: right;\">\n",
              "      <th></th>\n",
              "      <th>State</th>\n",
              "      <th>District</th>\n",
              "      <th>Crop</th>\n",
              "      <th>Year</th>\n",
              "      <th>Season</th>\n",
              "      <th>Yield</th>\n",
              "    </tr>\n",
              "  </thead>\n",
              "  <tbody>\n",
              "    <tr>\n",
              "      <th>287384</th>\n",
              "      <td>29</td>\n",
              "      <td>325</td>\n",
              "      <td>21</td>\n",
              "      <td>22</td>\n",
              "      <td>1</td>\n",
              "      <td>0.407208</td>\n",
              "    </tr>\n",
              "    <tr>\n",
              "      <th>621290</th>\n",
              "      <td>18</td>\n",
              "      <td>544</td>\n",
              "      <td>3</td>\n",
              "      <td>22</td>\n",
              "      <td>2</td>\n",
              "      <td>35.300000</td>\n",
              "    </tr>\n",
              "    <tr>\n",
              "      <th>285525</th>\n",
              "      <td>23</td>\n",
              "      <td>173</td>\n",
              "      <td>44</td>\n",
              "      <td>22</td>\n",
              "      <td>0</td>\n",
              "      <td>0.617691</td>\n",
              "    </tr>\n",
              "    <tr>\n",
              "      <th>285524</th>\n",
              "      <td>23</td>\n",
              "      <td>708</td>\n",
              "      <td>41</td>\n",
              "      <td>22</td>\n",
              "      <td>0</td>\n",
              "      <td>2.336540</td>\n",
              "    </tr>\n",
              "    <tr>\n",
              "      <th>621340</th>\n",
              "      <td>18</td>\n",
              "      <td>29</td>\n",
              "      <td>10</td>\n",
              "      <td>22</td>\n",
              "      <td>2</td>\n",
              "      <td>1.800008</td>\n",
              "    </tr>\n",
              "    <tr>\n",
              "      <th>...</th>\n",
              "      <td>...</td>\n",
              "      <td>...</td>\n",
              "      <td>...</td>\n",
              "      <td>...</td>\n",
              "      <td>...</td>\n",
              "      <td>...</td>\n",
              "    </tr>\n",
              "    <tr>\n",
              "      <th>659314</th>\n",
              "      <td>24</td>\n",
              "      <td>561</td>\n",
              "      <td>53</td>\n",
              "      <td>0</td>\n",
              "      <td>1</td>\n",
              "      <td>0.261665</td>\n",
              "    </tr>\n",
              "    <tr>\n",
              "      <th>659313</th>\n",
              "      <td>24</td>\n",
              "      <td>561</td>\n",
              "      <td>53</td>\n",
              "      <td>0</td>\n",
              "      <td>3</td>\n",
              "      <td>0.571429</td>\n",
              "    </tr>\n",
              "    <tr>\n",
              "      <th>659312</th>\n",
              "      <td>24</td>\n",
              "      <td>561</td>\n",
              "      <td>53</td>\n",
              "      <td>0</td>\n",
              "      <td>0</td>\n",
              "      <td>0.311966</td>\n",
              "    </tr>\n",
              "    <tr>\n",
              "      <th>333429</th>\n",
              "      <td>32</td>\n",
              "      <td>244</td>\n",
              "      <td>45</td>\n",
              "      <td>0</td>\n",
              "      <td>0</td>\n",
              "      <td>0.777778</td>\n",
              "    </tr>\n",
              "    <tr>\n",
              "      <th>321343</th>\n",
              "      <td>24</td>\n",
              "      <td>63</td>\n",
              "      <td>53</td>\n",
              "      <td>0</td>\n",
              "      <td>3</td>\n",
              "      <td>0.357143</td>\n",
              "    </tr>\n",
              "  </tbody>\n",
              "</table>\n",
              "<p>665684 rows × 6 columns</p>\n",
              "</div>\n",
              "      <button class=\"colab-df-convert\" onclick=\"convertToInteractive('df-53d149b8-2744-4e81-a1c8-64f058007f0a')\"\n",
              "              title=\"Convert this dataframe to an interactive table.\"\n",
              "              style=\"display:none;\">\n",
              "        \n",
              "  <svg xmlns=\"http://www.w3.org/2000/svg\" height=\"24px\"viewBox=\"0 0 24 24\"\n",
              "       width=\"24px\">\n",
              "    <path d=\"M0 0h24v24H0V0z\" fill=\"none\"/>\n",
              "    <path d=\"M18.56 5.44l.94 2.06.94-2.06 2.06-.94-2.06-.94-.94-2.06-.94 2.06-2.06.94zm-11 1L8.5 8.5l.94-2.06 2.06-.94-2.06-.94L8.5 2.5l-.94 2.06-2.06.94zm10 10l.94 2.06.94-2.06 2.06-.94-2.06-.94-.94-2.06-.94 2.06-2.06.94z\"/><path d=\"M17.41 7.96l-1.37-1.37c-.4-.4-.92-.59-1.43-.59-.52 0-1.04.2-1.43.59L10.3 9.45l-7.72 7.72c-.78.78-.78 2.05 0 2.83L4 21.41c.39.39.9.59 1.41.59.51 0 1.02-.2 1.41-.59l7.78-7.78 2.81-2.81c.8-.78.8-2.07 0-2.86zM5.41 20L4 18.59l7.72-7.72 1.47 1.35L5.41 20z\"/>\n",
              "  </svg>\n",
              "      </button>\n",
              "      \n",
              "  <style>\n",
              "    .colab-df-container {\n",
              "      display:flex;\n",
              "      flex-wrap:wrap;\n",
              "      gap: 12px;\n",
              "    }\n",
              "\n",
              "    .colab-df-convert {\n",
              "      background-color: #E8F0FE;\n",
              "      border: none;\n",
              "      border-radius: 50%;\n",
              "      cursor: pointer;\n",
              "      display: none;\n",
              "      fill: #1967D2;\n",
              "      height: 32px;\n",
              "      padding: 0 0 0 0;\n",
              "      width: 32px;\n",
              "    }\n",
              "\n",
              "    .colab-df-convert:hover {\n",
              "      background-color: #E2EBFA;\n",
              "      box-shadow: 0px 1px 2px rgba(60, 64, 67, 0.3), 0px 1px 3px 1px rgba(60, 64, 67, 0.15);\n",
              "      fill: #174EA6;\n",
              "    }\n",
              "\n",
              "    [theme=dark] .colab-df-convert {\n",
              "      background-color: #3B4455;\n",
              "      fill: #D2E3FC;\n",
              "    }\n",
              "\n",
              "    [theme=dark] .colab-df-convert:hover {\n",
              "      background-color: #434B5C;\n",
              "      box-shadow: 0px 1px 3px 1px rgba(0, 0, 0, 0.15);\n",
              "      filter: drop-shadow(0px 1px 2px rgba(0, 0, 0, 0.3));\n",
              "      fill: #FFFFFF;\n",
              "    }\n",
              "  </style>\n",
              "\n",
              "      <script>\n",
              "        const buttonEl =\n",
              "          document.querySelector('#df-53d149b8-2744-4e81-a1c8-64f058007f0a button.colab-df-convert');\n",
              "        buttonEl.style.display =\n",
              "          google.colab.kernel.accessAllowed ? 'block' : 'none';\n",
              "\n",
              "        async function convertToInteractive(key) {\n",
              "          const element = document.querySelector('#df-53d149b8-2744-4e81-a1c8-64f058007f0a');\n",
              "          const dataTable =\n",
              "            await google.colab.kernel.invokeFunction('convertToInteractive',\n",
              "                                                     [key], {});\n",
              "          if (!dataTable) return;\n",
              "\n",
              "          const docLinkHtml = 'Like what you see? Visit the ' +\n",
              "            '<a target=\"_blank\" href=https://colab.research.google.com/notebooks/data_table.ipynb>data table notebook</a>'\n",
              "            + ' to learn more about interactive tables.';\n",
              "          element.innerHTML = '';\n",
              "          dataTable['output_type'] = 'display_data';\n",
              "          await google.colab.output.renderOutput(dataTable, element);\n",
              "          const docLink = document.createElement('div');\n",
              "          docLink.innerHTML = docLinkHtml;\n",
              "          element.appendChild(docLink);\n",
              "        }\n",
              "      </script>\n",
              "    </div>\n",
              "  </div>\n",
              "  "
            ]
          },
          "metadata": {},
          "execution_count": 4
        }
      ],
      "source": [
        "cat_columns = df.select_dtypes(['category']).columns\n",
        "df[cat_columns] = df[cat_columns].apply(lambda x: x.cat.codes)\n",
        "\n",
        "df.to_csv('yield_processing_1.csv')\n",
        "\n",
        "df"
      ]
    },
    {
      "cell_type": "markdown",
      "id": "d767f744",
      "metadata": {
        "id": "d767f744"
      },
      "source": [
        "#### Finally Dividing the Data into Two parts and doing the ML part"
      ]
    },
    {
      "cell_type": "code",
      "source": [
        "from sklearn.metrics import mean_absolute_error, mean_squared_error, r2_score\n",
        "\n",
        "def scores_print(name_of_regr, regr, x_test, y_test):\n",
        "  y_pred = regr.predict(x_test)\n",
        "  mae = mean_absolute_error(y_test, y_pred)\n",
        "  mse = mean_squared_error(y_test,y_pred)\n",
        "  r2 = r2_score(y_test,y_pred)\n",
        "  print(name_of_regr + \" MAE : {:.3f} | MSE : {:.3f} | R^2 Score : {:.5f}\".format(mae, mse, r2))"
      ],
      "metadata": {
        "id": "DQZA2aLmM7TA"
      },
      "id": "DQZA2aLmM7TA",
      "execution_count": null,
      "outputs": []
    },
    {
      "cell_type": "code",
      "execution_count": 6,
      "id": "5f645e4e",
      "metadata": {
        "id": "5f645e4e",
        "outputId": "d9edf841-4e18-4b2a-a46c-0b722fc5be12",
        "colab": {
          "base_uri": "https://localhost:8080/"
        }
      },
      "outputs": [
        {
          "output_type": "execute_result",
          "data": {
            "text/plain": [
              "DecisionTreeRegressor(random_state=42)"
            ]
          },
          "metadata": {},
          "execution_count": 6
        }
      ],
      "source": [
        "X = df.drop(columns=['Yield'], axis=1)\n",
        "Y = df['Yield']\n",
        "X_train, X_test, Y_train, Y_test = train_test_split(X, Y, test_size = .20, random_state=42)\n",
        "    \n",
        "regr = DecisionTreeRegressor(random_state = 42) # Do not use fit_intercept = False if you have removed 1 column after dummy encoding\n",
        "regr.fit(X_train, Y_train)"
      ]
    },
    {
      "cell_type": "code",
      "source": [
        "scores_print('Decision Tree Regressor', regr, X_test, Y_test)"
      ],
      "metadata": {
        "colab": {
          "base_uri": "https://localhost:8080/"
        },
        "id": "5OI8iX3gNuCd",
        "outputId": "0671fc2b-d985-4c0b-ddf5-a49b1171a3db"
      },
      "id": "5OI8iX3gNuCd",
      "execution_count": 7,
      "outputs": [
        {
          "output_type": "stream",
          "name": "stdout",
          "text": [
            "Decision Tree Regressor MAE : 4.001 | MSE : 22513.754 | R^2 Score : 0.974\n"
          ]
        }
      ]
    },
    {
      "cell_type": "code",
      "source": [
        "from sklearn.ensemble import BaggingRegressor\n",
        "\n",
        "regr2 = BaggingRegressor(n_estimators=10, random_state=42)\n",
        "regr2.fit(X_train, Y_train)"
      ],
      "metadata": {
        "colab": {
          "base_uri": "https://localhost:8080/"
        },
        "id": "xXxAyZYyIUQP",
        "outputId": "f1816307-34eb-4fa1-8820-48c72a144225"
      },
      "id": "xXxAyZYyIUQP",
      "execution_count": 8,
      "outputs": [
        {
          "output_type": "execute_result",
          "data": {
            "text/plain": [
              "BaggingRegressor(random_state=42)"
            ]
          },
          "metadata": {},
          "execution_count": 8
        }
      ]
    },
    {
      "cell_type": "code",
      "source": [
        "scores_print('Bagging Regression DT', regr2, X_test, Y_test)"
      ],
      "metadata": {
        "colab": {
          "base_uri": "https://localhost:8080/"
        },
        "id": "AB-3Btp5PBVi",
        "outputId": "86f39fa8-a718-4bbc-98ab-62f95a40aac8"
      },
      "id": "AB-3Btp5PBVi",
      "execution_count": 9,
      "outputs": [
        {
          "output_type": "stream",
          "name": "stdout",
          "text": [
            "Bagging Regression DT MAE : 7.859 | MSE : 26070.935 | R^2 Score : 0.970\n"
          ]
        }
      ]
    },
    {
      "cell_type": "code",
      "source": [
        "from sklearn.linear_model import LinearRegression\n",
        "from sklearn.ensemble import RandomForestRegressor\n",
        "from sklearn.neighbors import KNeighborsRegressor\n",
        "from sklearn.ensemble import VotingRegressor\n",
        "\n",
        "r1 = LinearRegression()\n",
        "r2 = RandomForestRegressor(n_estimators=10, random_state=42)\n",
        "r3 = KNeighborsRegressor()\n",
        "r4 = DecisionTreeRegressor(max_depth = 10)"
      ],
      "metadata": {
        "id": "BjC4vyvEPyEZ"
      },
      "id": "BjC4vyvEPyEZ",
      "execution_count": 10,
      "outputs": []
    },
    {
      "cell_type": "code",
      "source": [
        "er = VotingRegressor([('rf', r2), ('r3', r3), ('dtr', r4)])\n",
        "er.fit(X_train, Y_train)"
      ],
      "metadata": {
        "colab": {
          "base_uri": "https://localhost:8080/"
        },
        "id": "oSMl3HU6P3p2",
        "outputId": "bebaa793-304e-40ba-ce96-ec98d5b807e2"
      },
      "id": "oSMl3HU6P3p2",
      "execution_count": 11,
      "outputs": [
        {
          "output_type": "execute_result",
          "data": {
            "text/plain": [
              "VotingRegressor(estimators=[('rf',\n",
              "                             RandomForestRegressor(n_estimators=10,\n",
              "                                                   random_state=42)),\n",
              "                            ('r3', KNeighborsRegressor()),\n",
              "                            ('dtr', DecisionTreeRegressor(max_depth=10))])"
            ]
          },
          "metadata": {},
          "execution_count": 11
        }
      ]
    },
    {
      "cell_type": "code",
      "source": [
        "r1.fit(X_train, Y_train)\n",
        "scores_print('LinearRegression', r1, X_test, Y_test)"
      ],
      "metadata": {
        "colab": {
          "base_uri": "https://localhost:8080/"
        },
        "id": "d9dVjSbSRiz5",
        "outputId": "eee74fc2-bacf-44c2-f24d-7bef3dac8392"
      },
      "id": "d9dVjSbSRiz5",
      "execution_count": 12,
      "outputs": [
        {
          "output_type": "stream",
          "name": "stdout",
          "text": [
            "LinearRegression MAE : 199.172 | MSE : 837703.211 | R^2 Score : 0.024\n"
          ]
        }
      ]
    },
    {
      "cell_type": "code",
      "source": [
        "r2.fit(X_train, Y_train)\n",
        "scores_print('RFR', r2, X_test, Y_test)"
      ],
      "metadata": {
        "colab": {
          "base_uri": "https://localhost:8080/"
        },
        "id": "iAsz-luQRWN3",
        "outputId": "5c89242a-b3de-4c25-f7b4-96d29e0047f1"
      },
      "id": "iAsz-luQRWN3",
      "execution_count": 13,
      "outputs": [
        {
          "output_type": "stream",
          "name": "stdout",
          "text": [
            "RFR MAE : 7.882 | MSE : 26126.525 | R^2 Score : 0.970\n"
          ]
        }
      ]
    },
    {
      "cell_type": "code",
      "source": [
        "r3.fit(X_train, Y_train)\n",
        "scores_print('KNN', r3, X_test, Y_test)"
      ],
      "metadata": {
        "colab": {
          "base_uri": "https://localhost:8080/"
        },
        "id": "QbTriPftRoZy",
        "outputId": "71059413-fb67-426a-f707-aa3876c9eed8"
      },
      "id": "QbTriPftRoZy",
      "execution_count": 14,
      "outputs": [
        {
          "output_type": "stream",
          "name": "stdout",
          "text": [
            "KNN MAE : 35.138 | MSE : 158864.054 | R^2 Score : 0.815\n"
          ]
        }
      ]
    },
    {
      "cell_type": "code",
      "source": [
        "r4.fit(X_train, Y_train)\n",
        "scores_print('DTR', r4, X_test, Y_test)"
      ],
      "metadata": {
        "colab": {
          "base_uri": "https://localhost:8080/"
        },
        "id": "scj_nLWKR86u",
        "outputId": "a6147204-3565-40c8-98a8-ede49a8b0156"
      },
      "id": "scj_nLWKR86u",
      "execution_count": 15,
      "outputs": [
        {
          "output_type": "stream",
          "name": "stdout",
          "text": [
            "DTR MAE : 18.379 | MSE : 77273.048 | R^2 Score : 0.910\n"
          ]
        }
      ]
    },
    {
      "cell_type": "code",
      "source": [
        "scores_print('Voting Regressor', er, X_test, Y_test)"
      ],
      "metadata": {
        "colab": {
          "base_uri": "https://localhost:8080/"
        },
        "id": "cL8QMYcXQXB1",
        "outputId": "479df595-3ef8-4a92-9ca8-db535a4cb597"
      },
      "id": "cL8QMYcXQXB1",
      "execution_count": 16,
      "outputs": [
        {
          "output_type": "stream",
          "name": "stdout",
          "text": [
            "Voting Regressor MAE : 17.996 | MSE : 49200.103 | R^2 Score : 0.943\n"
          ]
        }
      ]
    },
    {
      "cell_type": "code",
      "source": [
        "regr.get_depth()"
      ],
      "metadata": {
        "colab": {
          "base_uri": "https://localhost:8080/"
        },
        "id": "MwW56nLyT8uw",
        "outputId": "09bb8d0e-6617-465d-9f12-b0b857d8296e"
      },
      "id": "MwW56nLyT8uw",
      "execution_count": 17,
      "outputs": [
        {
          "output_type": "execute_result",
          "data": {
            "text/plain": [
              "48"
            ]
          },
          "metadata": {},
          "execution_count": 17
        }
      ]
    },
    {
      "cell_type": "code",
      "source": [
        "r5 = DecisionTreeRegressor(max_depth=10)\n",
        "r5.fit(X_train, Y_train)"
      ],
      "metadata": {
        "colab": {
          "base_uri": "https://localhost:8080/"
        },
        "id": "ItXrsjjdUEI1",
        "outputId": "6718c6be-1d7f-4f16-c05f-79e514e59835"
      },
      "id": "ItXrsjjdUEI1",
      "execution_count": 18,
      "outputs": [
        {
          "output_type": "execute_result",
          "data": {
            "text/plain": [
              "DecisionTreeRegressor(max_depth=10)"
            ]
          },
          "metadata": {},
          "execution_count": 18
        }
      ]
    },
    {
      "cell_type": "code",
      "source": [
        "scores_print('DT D =10', r5, X_test, Y_test)"
      ],
      "metadata": {
        "colab": {
          "base_uri": "https://localhost:8080/"
        },
        "id": "zEYSm-59To2D",
        "outputId": "48990681-2da0-4fa0-de5c-14ecb228858f"
      },
      "id": "zEYSm-59To2D",
      "execution_count": 19,
      "outputs": [
        {
          "output_type": "stream",
          "name": "stdout",
          "text": [
            "DT D =10 MAE : 18.379 | MSE : 77273.048 | R^2 Score : 0.910\n"
          ]
        }
      ]
    },
    {
      "cell_type": "code",
      "source": [
        "from sklearn.ensemble import AdaBoostRegressor\n",
        "dtr6 = DecisionTreeRegressor(max_depth=10)\n",
        "adaregr = AdaBoostRegressor(base_estimator = dtr6, random_state=42, n_estimators=10)\n",
        "adaregr.fit(X_train, Y_train)"
      ],
      "metadata": {
        "colab": {
          "base_uri": "https://localhost:8080/"
        },
        "id": "bWMWyYcqVFTs",
        "outputId": "b705a48d-809b-4ec0-e809-211c7c3f6488"
      },
      "id": "bWMWyYcqVFTs",
      "execution_count": 36,
      "outputs": [
        {
          "output_type": "execute_result",
          "data": {
            "text/plain": [
              "AdaBoostRegressor(base_estimator=DecisionTreeRegressor(max_depth=10),\n",
              "                  n_estimators=10, random_state=42)"
            ]
          },
          "metadata": {},
          "execution_count": 36
        }
      ]
    },
    {
      "cell_type": "code",
      "source": [
        "scores_print('AdaBoostRegressor', adaregr, X_test, Y_test)"
      ],
      "metadata": {
        "colab": {
          "base_uri": "https://localhost:8080/"
        },
        "id": "ctUCMdOjW0kB",
        "outputId": "d7afa30c-d8a0-4bca-8a4c-daccc80a8647"
      },
      "id": "ctUCMdOjW0kB",
      "execution_count": 37,
      "outputs": [
        {
          "output_type": "stream",
          "name": "stdout",
          "text": [
            "AdaBoostRegressor MAE : 17.432 | MSE : 58182.921 | R^2 Score : 0.932\n"
          ]
        }
      ]
    },
    {
      "cell_type": "code",
      "source": [
        "from sklearn.ensemble import BaggingRegressor\n",
        "\n",
        "bag_regr = BaggingRegressor(base_estimator = r4, n_estimators=10, random_state=42)\n",
        "bag_regr.fit(X_train, Y_train)"
      ],
      "metadata": {
        "colab": {
          "base_uri": "https://localhost:8080/"
        },
        "id": "cG6EmALCloQW",
        "outputId": "ed62cbf1-3ad1-4f4e-89c0-6ad204b00bd0"
      },
      "id": "cG6EmALCloQW",
      "execution_count": 33,
      "outputs": [
        {
          "output_type": "execute_result",
          "data": {
            "text/plain": [
              "BaggingRegressor(base_estimator=DecisionTreeRegressor(max_depth=10),\n",
              "                 random_state=42)"
            ]
          },
          "metadata": {},
          "execution_count": 33
        }
      ]
    },
    {
      "cell_type": "code",
      "source": [
        "scores_print('Bagging Regressor with DT 10 Depth', bag_regr, X_test, Y_test)"
      ],
      "metadata": {
        "colab": {
          "base_uri": "https://localhost:8080/"
        },
        "id": "Plx8A05ylzls",
        "outputId": "29740100-b750-496f-e1a6-8fefdfccd817"
      },
      "id": "Plx8A05ylzls",
      "execution_count": 34,
      "outputs": [
        {
          "output_type": "stream",
          "name": "stdout",
          "text": [
            "Bagging Regressor with DT 10 Depth MAE : 17.367 | MSE : 68348.659 | R^2 Score : 0.920\n"
          ]
        }
      ]
    },
    {
      "cell_type": "code",
      "source": [
        "from sklearn.ensemble import StackingRegressor\n",
        "\n",
        "estimators = [\n",
        "    ('dtr', r5),\n",
        "    ('bag', bag_regr),\n",
        "    ('adab', adaregr),\n",
        "]\n",
        "sregr = StackingRegressor(estimators, final_estimator=dtr6)\n",
        "sregr.fit(X_train, Y_train)\n"
      ],
      "metadata": {
        "colab": {
          "base_uri": "https://localhost:8080/"
        },
        "id": "mNVvSUnBcFL0",
        "outputId": "af530593-ee62-40be-e5ab-c07a27b27e56"
      },
      "id": "mNVvSUnBcFL0",
      "execution_count": 39,
      "outputs": [
        {
          "output_type": "execute_result",
          "data": {
            "text/plain": [
              "StackingRegressor(estimators=[('dtr', DecisionTreeRegressor(max_depth=10)),\n",
              "                              ('bag',\n",
              "                               BaggingRegressor(base_estimator=DecisionTreeRegressor(max_depth=10),\n",
              "                                                random_state=42)),\n",
              "                              ('adab',\n",
              "                               AdaBoostRegressor(base_estimator=DecisionTreeRegressor(max_depth=10),\n",
              "                                                 n_estimators=10,\n",
              "                                                 random_state=42))],\n",
              "                  final_estimator=DecisionTreeRegressor(max_depth=10))"
            ]
          },
          "metadata": {},
          "execution_count": 39
        }
      ]
    },
    {
      "cell_type": "code",
      "source": [
        "scores_print('Stacking Regressor', sregr, X_test, Y_test)"
      ],
      "metadata": {
        "colab": {
          "base_uri": "https://localhost:8080/"
        },
        "id": "3OvJh6XViqPQ",
        "outputId": "7ffaecc4-6474-4e18-837f-7bc92081aad4"
      },
      "id": "3OvJh6XViqPQ",
      "execution_count": 40,
      "outputs": [
        {
          "output_type": "stream",
          "name": "stdout",
          "text": [
            "Stacking Regressor MAE : 18.004 | MSE : 71071.810 | R^2 Score : 0.917\n"
          ]
        }
      ]
    },
    {
      "cell_type": "code",
      "source": [
        "estimators2 = [\n",
        "    ('bag', bag_regr),\n",
        "    ('adab', adaregr),\n",
        "]\n",
        "dtr7 = DecisionTreeRegressor(max_depth=5)\n",
        "sregr2 = StackingRegressor(estimators2, final_estimator=dtr7)\n",
        "sregr2.fit(X_train, Y_train)"
      ],
      "metadata": {
        "colab": {
          "base_uri": "https://localhost:8080/"
        },
        "id": "hWm0ztUznLnW",
        "outputId": "14d121f5-8162-4abd-de01-73b060e0b6ae"
      },
      "id": "hWm0ztUznLnW",
      "execution_count": 47,
      "outputs": [
        {
          "output_type": "execute_result",
          "data": {
            "text/plain": [
              "StackingRegressor(estimators=[('bag',\n",
              "                               BaggingRegressor(base_estimator=DecisionTreeRegressor(max_depth=10),\n",
              "                                                random_state=42)),\n",
              "                              ('adab',\n",
              "                               AdaBoostRegressor(base_estimator=DecisionTreeRegressor(max_depth=10),\n",
              "                                                 n_estimators=10,\n",
              "                                                 random_state=42))],\n",
              "                  final_estimator=DecisionTreeRegressor(max_depth=3))"
            ]
          },
          "metadata": {},
          "execution_count": 47
        }
      ]
    },
    {
      "cell_type": "code",
      "source": [
        "scores_print('Stacking Regressor without DT Training', sregr2, X_train, Y_train)\n",
        "scores_print('Stacking Regressor without DT', sregr2, X_test, Y_test)"
      ],
      "metadata": {
        "colab": {
          "base_uri": "https://localhost:8080/"
        },
        "id": "QDt_Bo1TnVWe",
        "outputId": "c144c7b7-9c5b-48c0-dcd0-cea5aba6b208"
      },
      "id": "QDt_Bo1TnVWe",
      "execution_count": 48,
      "outputs": [
        {
          "output_type": "stream",
          "name": "stdout",
          "text": [
            "Stacking Regressor without DT Training MAE : 21.601 | MSE : 57970.013 | R^2 Score : 0.934\n",
            "Stacking Regressor without DT MAE : 23.125 | MSE : 68631.145 | R^2 Score : 0.920\n"
          ]
        }
      ]
    }
  ],
  "metadata": {
    "kernelspec": {
      "display_name": "Python 3 (ipykernel)",
      "language": "python",
      "name": "python3"
    },
    "language_info": {
      "codemirror_mode": {
        "name": "ipython",
        "version": 3
      },
      "file_extension": ".py",
      "mimetype": "text/x-python",
      "name": "python",
      "nbconvert_exporter": "python",
      "pygments_lexer": "ipython3",
      "version": "3.9.7"
    },
    "colab": {
      "provenance": [],
      "include_colab_link": true
    }
  },
  "nbformat": 4,
  "nbformat_minor": 5
}