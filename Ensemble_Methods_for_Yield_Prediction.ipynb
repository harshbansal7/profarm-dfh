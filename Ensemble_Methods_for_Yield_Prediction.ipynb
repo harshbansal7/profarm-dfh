{
  "cells": [
    {
      "cell_type": "markdown",
      "metadata": {
        "id": "view-in-github",
        "colab_type": "text"
      },
      "source": [
        "<a href=\"https://colab.research.google.com/github/harshbansal7/profarm-dvh/blob/main/Ensemble_Methods_for_Yield_Prediction.ipynb\" target=\"_parent\"><img src=\"https://colab.research.google.com/assets/colab-badge.svg\" alt=\"Open In Colab\"/></a>"
      ]
    },
    {
      "cell_type": "markdown",
      "id": "15ae4d35",
      "metadata": {
        "id": "15ae4d35"
      },
      "source": [
        "## Crop Yield Prediction based on DecisionTreeRegression\n",
        "\n",
        "#### Importing all required libraries and CSV Dataset"
      ]
    },
    {
      "cell_type": "code",
      "execution_count": null,
      "id": "4b92917e",
      "metadata": {
        "id": "4b92917e",
        "outputId": "01471713-1f49-4038-c17f-acf8c2f508eb",
        "colab": {
          "base_uri": "https://localhost:8080/"
        }
      },
      "outputs": [
        {
          "output_type": "stream",
          "name": "stdout",
          "text": [
            "<class 'pandas.core.frame.DataFrame'>\n",
            "RangeIndex: 676425 entries, 0 to 676424\n",
            "Data columns (total 10 columns):\n",
            " #   Column            Non-Null Count   Dtype  \n",
            "---  ------            --------------   -----  \n",
            " 0   State             676425 non-null  object \n",
            " 1   District          676425 non-null  object \n",
            " 2   Crop              675458 non-null  object \n",
            " 3   Year              676425 non-null  object \n",
            " 4   Season            676425 non-null  object \n",
            " 5   Area              675458 non-null  float64\n",
            " 6   Area Units        675458 non-null  object \n",
            " 7   Production        665684 non-null  float64\n",
            " 8   Production Units  675458 non-null  object \n",
            " 9   Yield             675458 non-null  float64\n",
            "dtypes: float64(3), object(7)\n",
            "memory usage: 51.6+ MB\n"
          ]
        },
        {
          "output_type": "execute_result",
          "data": {
            "text/plain": [
              "State                   35\n",
              "District               709\n",
              "Crop                    56\n",
              "Year                    23\n",
              "Season                   6\n",
              "Area                 47390\n",
              "Area Units               1\n",
              "Production           67906\n",
              "Production Units         3\n",
              "Yield               193205\n",
              "dtype: int64"
            ]
          },
          "metadata": {},
          "execution_count": 30
        }
      ],
      "source": [
        "import numpy as np\n",
        "import pandas as pd # to make dataframes\n",
        "import matplotlib.pyplot as plt # to visualize data (using plots)\n",
        "import seaborn as sns # also for visualization\n",
        "from sklearn import model_selection\n",
        "from sklearn.model_selection import train_test_split # splitting data into test-train sections\n",
        "from sklearn.tree import DecisionTreeRegressor # the actual Decision Maker\n",
        "from sklearn import metrics # to calculate Accuracy of the Model\n",
        "\n",
        "df = pd.read_csv('https://raw.githubusercontent.com/harshbansal7/profarm-dvh/main/Datasets%20and%20Notebooks/main2.csv') # importing dataset to a dataframe\n",
        "df.info()\n",
        "df.nunique()"
      ]
    },
    {
      "cell_type": "markdown",
      "id": "437197db",
      "metadata": {
        "id": "437197db"
      },
      "source": [
        "#### Cleaning Data \n",
        "\n",
        "1. Removing Rows with any NaN entry.\n",
        "2. Sorting data in Descending Order of Year for better understanding.\n",
        "3. `Production, Production Units, Area, Area Units` colums were dropped.\n"
      ]
    },
    {
      "cell_type": "code",
      "source": [
        "df = df.dropna()"
      ],
      "metadata": {
        "id": "gBNOTyVBXu4a"
      },
      "id": "gBNOTyVBXu4a",
      "execution_count": null,
      "outputs": []
    },
    {
      "cell_type": "code",
      "source": [
        "df.info()\n",
        "df.nunique()"
      ],
      "metadata": {
        "colab": {
          "base_uri": "https://localhost:8080/"
        },
        "id": "CslWe-0EXw_u",
        "outputId": "310a401c-8678-44fe-c46f-35b5991131c6"
      },
      "id": "CslWe-0EXw_u",
      "execution_count": null,
      "outputs": [
        {
          "output_type": "stream",
          "name": "stdout",
          "text": [
            "<class 'pandas.core.frame.DataFrame'>\n",
            "Int64Index: 665684 entries, 0 to 675507\n",
            "Data columns (total 10 columns):\n",
            " #   Column            Non-Null Count   Dtype  \n",
            "---  ------            --------------   -----  \n",
            " 0   State             665684 non-null  object \n",
            " 1   District          665684 non-null  object \n",
            " 2   Crop              665684 non-null  object \n",
            " 3   Year              665684 non-null  object \n",
            " 4   Season            665684 non-null  object \n",
            " 5   Area              665684 non-null  float64\n",
            " 6   Area Units        665684 non-null  object \n",
            " 7   Production        665684 non-null  float64\n",
            " 8   Production Units  665684 non-null  object \n",
            " 9   Yield             665684 non-null  float64\n",
            "dtypes: float64(3), object(7)\n",
            "memory usage: 55.9+ MB\n"
          ]
        },
        {
          "output_type": "execute_result",
          "data": {
            "text/plain": [
              "State                   35\n",
              "District               709\n",
              "Crop                    56\n",
              "Year                    23\n",
              "Season                   6\n",
              "Area                 47333\n",
              "Area Units               1\n",
              "Production           67906\n",
              "Production Units         3\n",
              "Yield               193205\n",
              "dtype: int64"
            ]
          },
          "metadata": {},
          "execution_count": 32
        }
      ]
    },
    {
      "cell_type": "code",
      "source": [
        "df['Season'] = pd.Categorical(df['Season'], ordered = True)\n",
        "print (df['Season'].cat.categories)"
      ],
      "metadata": {
        "colab": {
          "base_uri": "https://localhost:8080/"
        },
        "id": "8a3pKrrnYnc4",
        "outputId": "ce43bf66-b83b-4b9d-c4fd-9160e6999284"
      },
      "id": "8a3pKrrnYnc4",
      "execution_count": null,
      "outputs": [
        {
          "output_type": "stream",
          "name": "stdout",
          "text": [
            "Index(['Autumn', 'Kharif', 'Rabi', 'Summer', 'Whole Year', 'Winter'], dtype='object')\n"
          ]
        }
      ]
    },
    {
      "cell_type": "code",
      "source": [
        "df"
      ],
      "metadata": {
        "colab": {
          "base_uri": "https://localhost:8080/",
          "height": 658
        },
        "id": "vJRn9sHkK3mb",
        "outputId": "0bb454e2-0e3e-4bc5-e99e-8c06d4eb2886"
      },
      "id": "vJRn9sHkK3mb",
      "execution_count": null,
      "outputs": [
        {
          "output_type": "execute_result",
          "data": {
            "text/plain": [
              "                              State                  District      Crop  \\\n",
              "0       Andaman and Nicobar Islands                  NICOBARS  Arecanut   \n",
              "1       Andaman and Nicobar Islands                  NICOBARS  Arecanut   \n",
              "2       Andaman and Nicobar Islands                  NICOBARS  Arecanut   \n",
              "3       Andaman and Nicobar Islands  NORTH AND MIDDLE ANDAMAN  Arecanut   \n",
              "4       Andaman and Nicobar Islands            SOUTH ANDAMANS  Arecanut   \n",
              "...                             ...                       ...       ...   \n",
              "675503                  West Bengal           PURBA BARDHAMAN     Wheat   \n",
              "675504                  West Bengal                   PURULIA     Wheat   \n",
              "675505                  West Bengal                   PURULIA     Wheat   \n",
              "675506                  West Bengal                   PURULIA     Wheat   \n",
              "675507                  West Bengal                   PURULIA     Wheat   \n",
              "\n",
              "           Year      Season    Area Area Units  Production Production Units  \\\n",
              "0       2001-02      Kharif  1254.0    Hectare      2061.0           Tonnes   \n",
              "1       2002-03  Whole Year  1258.0    Hectare      2083.0           Tonnes   \n",
              "2       2003-04  Whole Year  1261.0    Hectare      1525.0           Tonnes   \n",
              "3       2001-02      Kharif  3100.0    Hectare      5239.0           Tonnes   \n",
              "4       2002-03  Whole Year  3105.0    Hectare      5267.0           Tonnes   \n",
              "...         ...         ...     ...        ...         ...              ...   \n",
              "675503  2000-01        Rabi  6310.0    Hectare     15280.0           Tonnes   \n",
              "675504  1997-98        Rabi  1895.0    Hectare      2760.0           Tonnes   \n",
              "675505  1998-99        Rabi  3736.0    Hectare      5530.0           Tonnes   \n",
              "675506  1999-00        Rabi  2752.0    Hectare      6928.0           Tonnes   \n",
              "675507  2000-01        Rabi  2979.0    Hectare      7430.0           Tonnes   \n",
              "\n",
              "           Yield  \n",
              "0       1.643541  \n",
              "1       1.655803  \n",
              "2       1.209358  \n",
              "3       1.690000  \n",
              "4       1.696296  \n",
              "...          ...  \n",
              "675503  2.421553  \n",
              "675504  1.456464  \n",
              "675505  1.480193  \n",
              "675506  2.517442  \n",
              "675507  2.494126  \n",
              "\n",
              "[665684 rows x 10 columns]"
            ],
            "text/html": [
              "\n",
              "  <div id=\"df-3bda640c-09ad-4e3e-baa9-9c5acfd6f7cf\">\n",
              "    <div class=\"colab-df-container\">\n",
              "      <div>\n",
              "<style scoped>\n",
              "    .dataframe tbody tr th:only-of-type {\n",
              "        vertical-align: middle;\n",
              "    }\n",
              "\n",
              "    .dataframe tbody tr th {\n",
              "        vertical-align: top;\n",
              "    }\n",
              "\n",
              "    .dataframe thead th {\n",
              "        text-align: right;\n",
              "    }\n",
              "</style>\n",
              "<table border=\"1\" class=\"dataframe\">\n",
              "  <thead>\n",
              "    <tr style=\"text-align: right;\">\n",
              "      <th></th>\n",
              "      <th>State</th>\n",
              "      <th>District</th>\n",
              "      <th>Crop</th>\n",
              "      <th>Year</th>\n",
              "      <th>Season</th>\n",
              "      <th>Area</th>\n",
              "      <th>Area Units</th>\n",
              "      <th>Production</th>\n",
              "      <th>Production Units</th>\n",
              "      <th>Yield</th>\n",
              "    </tr>\n",
              "  </thead>\n",
              "  <tbody>\n",
              "    <tr>\n",
              "      <th>0</th>\n",
              "      <td>Andaman and Nicobar Islands</td>\n",
              "      <td>NICOBARS</td>\n",
              "      <td>Arecanut</td>\n",
              "      <td>2001-02</td>\n",
              "      <td>Kharif</td>\n",
              "      <td>1254.0</td>\n",
              "      <td>Hectare</td>\n",
              "      <td>2061.0</td>\n",
              "      <td>Tonnes</td>\n",
              "      <td>1.643541</td>\n",
              "    </tr>\n",
              "    <tr>\n",
              "      <th>1</th>\n",
              "      <td>Andaman and Nicobar Islands</td>\n",
              "      <td>NICOBARS</td>\n",
              "      <td>Arecanut</td>\n",
              "      <td>2002-03</td>\n",
              "      <td>Whole Year</td>\n",
              "      <td>1258.0</td>\n",
              "      <td>Hectare</td>\n",
              "      <td>2083.0</td>\n",
              "      <td>Tonnes</td>\n",
              "      <td>1.655803</td>\n",
              "    </tr>\n",
              "    <tr>\n",
              "      <th>2</th>\n",
              "      <td>Andaman and Nicobar Islands</td>\n",
              "      <td>NICOBARS</td>\n",
              "      <td>Arecanut</td>\n",
              "      <td>2003-04</td>\n",
              "      <td>Whole Year</td>\n",
              "      <td>1261.0</td>\n",
              "      <td>Hectare</td>\n",
              "      <td>1525.0</td>\n",
              "      <td>Tonnes</td>\n",
              "      <td>1.209358</td>\n",
              "    </tr>\n",
              "    <tr>\n",
              "      <th>3</th>\n",
              "      <td>Andaman and Nicobar Islands</td>\n",
              "      <td>NORTH AND MIDDLE ANDAMAN</td>\n",
              "      <td>Arecanut</td>\n",
              "      <td>2001-02</td>\n",
              "      <td>Kharif</td>\n",
              "      <td>3100.0</td>\n",
              "      <td>Hectare</td>\n",
              "      <td>5239.0</td>\n",
              "      <td>Tonnes</td>\n",
              "      <td>1.690000</td>\n",
              "    </tr>\n",
              "    <tr>\n",
              "      <th>4</th>\n",
              "      <td>Andaman and Nicobar Islands</td>\n",
              "      <td>SOUTH ANDAMANS</td>\n",
              "      <td>Arecanut</td>\n",
              "      <td>2002-03</td>\n",
              "      <td>Whole Year</td>\n",
              "      <td>3105.0</td>\n",
              "      <td>Hectare</td>\n",
              "      <td>5267.0</td>\n",
              "      <td>Tonnes</td>\n",
              "      <td>1.696296</td>\n",
              "    </tr>\n",
              "    <tr>\n",
              "      <th>...</th>\n",
              "      <td>...</td>\n",
              "      <td>...</td>\n",
              "      <td>...</td>\n",
              "      <td>...</td>\n",
              "      <td>...</td>\n",
              "      <td>...</td>\n",
              "      <td>...</td>\n",
              "      <td>...</td>\n",
              "      <td>...</td>\n",
              "      <td>...</td>\n",
              "    </tr>\n",
              "    <tr>\n",
              "      <th>675503</th>\n",
              "      <td>West Bengal</td>\n",
              "      <td>PURBA BARDHAMAN</td>\n",
              "      <td>Wheat</td>\n",
              "      <td>2000-01</td>\n",
              "      <td>Rabi</td>\n",
              "      <td>6310.0</td>\n",
              "      <td>Hectare</td>\n",
              "      <td>15280.0</td>\n",
              "      <td>Tonnes</td>\n",
              "      <td>2.421553</td>\n",
              "    </tr>\n",
              "    <tr>\n",
              "      <th>675504</th>\n",
              "      <td>West Bengal</td>\n",
              "      <td>PURULIA</td>\n",
              "      <td>Wheat</td>\n",
              "      <td>1997-98</td>\n",
              "      <td>Rabi</td>\n",
              "      <td>1895.0</td>\n",
              "      <td>Hectare</td>\n",
              "      <td>2760.0</td>\n",
              "      <td>Tonnes</td>\n",
              "      <td>1.456464</td>\n",
              "    </tr>\n",
              "    <tr>\n",
              "      <th>675505</th>\n",
              "      <td>West Bengal</td>\n",
              "      <td>PURULIA</td>\n",
              "      <td>Wheat</td>\n",
              "      <td>1998-99</td>\n",
              "      <td>Rabi</td>\n",
              "      <td>3736.0</td>\n",
              "      <td>Hectare</td>\n",
              "      <td>5530.0</td>\n",
              "      <td>Tonnes</td>\n",
              "      <td>1.480193</td>\n",
              "    </tr>\n",
              "    <tr>\n",
              "      <th>675506</th>\n",
              "      <td>West Bengal</td>\n",
              "      <td>PURULIA</td>\n",
              "      <td>Wheat</td>\n",
              "      <td>1999-00</td>\n",
              "      <td>Rabi</td>\n",
              "      <td>2752.0</td>\n",
              "      <td>Hectare</td>\n",
              "      <td>6928.0</td>\n",
              "      <td>Tonnes</td>\n",
              "      <td>2.517442</td>\n",
              "    </tr>\n",
              "    <tr>\n",
              "      <th>675507</th>\n",
              "      <td>West Bengal</td>\n",
              "      <td>PURULIA</td>\n",
              "      <td>Wheat</td>\n",
              "      <td>2000-01</td>\n",
              "      <td>Rabi</td>\n",
              "      <td>2979.0</td>\n",
              "      <td>Hectare</td>\n",
              "      <td>7430.0</td>\n",
              "      <td>Tonnes</td>\n",
              "      <td>2.494126</td>\n",
              "    </tr>\n",
              "  </tbody>\n",
              "</table>\n",
              "<p>665684 rows × 10 columns</p>\n",
              "</div>\n",
              "      <button class=\"colab-df-convert\" onclick=\"convertToInteractive('df-3bda640c-09ad-4e3e-baa9-9c5acfd6f7cf')\"\n",
              "              title=\"Convert this dataframe to an interactive table.\"\n",
              "              style=\"display:none;\">\n",
              "        \n",
              "  <svg xmlns=\"http://www.w3.org/2000/svg\" height=\"24px\"viewBox=\"0 0 24 24\"\n",
              "       width=\"24px\">\n",
              "    <path d=\"M0 0h24v24H0V0z\" fill=\"none\"/>\n",
              "    <path d=\"M18.56 5.44l.94 2.06.94-2.06 2.06-.94-2.06-.94-.94-2.06-.94 2.06-2.06.94zm-11 1L8.5 8.5l.94-2.06 2.06-.94-2.06-.94L8.5 2.5l-.94 2.06-2.06.94zm10 10l.94 2.06.94-2.06 2.06-.94-2.06-.94-.94-2.06-.94 2.06-2.06.94z\"/><path d=\"M17.41 7.96l-1.37-1.37c-.4-.4-.92-.59-1.43-.59-.52 0-1.04.2-1.43.59L10.3 9.45l-7.72 7.72c-.78.78-.78 2.05 0 2.83L4 21.41c.39.39.9.59 1.41.59.51 0 1.02-.2 1.41-.59l7.78-7.78 2.81-2.81c.8-.78.8-2.07 0-2.86zM5.41 20L4 18.59l7.72-7.72 1.47 1.35L5.41 20z\"/>\n",
              "  </svg>\n",
              "      </button>\n",
              "      \n",
              "  <style>\n",
              "    .colab-df-container {\n",
              "      display:flex;\n",
              "      flex-wrap:wrap;\n",
              "      gap: 12px;\n",
              "    }\n",
              "\n",
              "    .colab-df-convert {\n",
              "      background-color: #E8F0FE;\n",
              "      border: none;\n",
              "      border-radius: 50%;\n",
              "      cursor: pointer;\n",
              "      display: none;\n",
              "      fill: #1967D2;\n",
              "      height: 32px;\n",
              "      padding: 0 0 0 0;\n",
              "      width: 32px;\n",
              "    }\n",
              "\n",
              "    .colab-df-convert:hover {\n",
              "      background-color: #E2EBFA;\n",
              "      box-shadow: 0px 1px 2px rgba(60, 64, 67, 0.3), 0px 1px 3px 1px rgba(60, 64, 67, 0.15);\n",
              "      fill: #174EA6;\n",
              "    }\n",
              "\n",
              "    [theme=dark] .colab-df-convert {\n",
              "      background-color: #3B4455;\n",
              "      fill: #D2E3FC;\n",
              "    }\n",
              "\n",
              "    [theme=dark] .colab-df-convert:hover {\n",
              "      background-color: #434B5C;\n",
              "      box-shadow: 0px 1px 3px 1px rgba(0, 0, 0, 0.15);\n",
              "      filter: drop-shadow(0px 1px 2px rgba(0, 0, 0, 0.3));\n",
              "      fill: #FFFFFF;\n",
              "    }\n",
              "  </style>\n",
              "\n",
              "      <script>\n",
              "        const buttonEl =\n",
              "          document.querySelector('#df-3bda640c-09ad-4e3e-baa9-9c5acfd6f7cf button.colab-df-convert');\n",
              "        buttonEl.style.display =\n",
              "          google.colab.kernel.accessAllowed ? 'block' : 'none';\n",
              "\n",
              "        async function convertToInteractive(key) {\n",
              "          const element = document.querySelector('#df-3bda640c-09ad-4e3e-baa9-9c5acfd6f7cf');\n",
              "          const dataTable =\n",
              "            await google.colab.kernel.invokeFunction('convertToInteractive',\n",
              "                                                     [key], {});\n",
              "          if (!dataTable) return;\n",
              "\n",
              "          const docLinkHtml = 'Like what you see? Visit the ' +\n",
              "            '<a target=\"_blank\" href=https://colab.research.google.com/notebooks/data_table.ipynb>data table notebook</a>'\n",
              "            + ' to learn more about interactive tables.';\n",
              "          element.innerHTML = '';\n",
              "          dataTable['output_type'] = 'display_data';\n",
              "          await google.colab.output.renderOutput(dataTable, element);\n",
              "          const docLink = document.createElement('div');\n",
              "          docLink.innerHTML = docLinkHtml;\n",
              "          element.appendChild(docLink);\n",
              "        }\n",
              "      </script>\n",
              "    </div>\n",
              "  </div>\n",
              "  "
            ]
          },
          "metadata": {},
          "execution_count": 34
        }
      ]
    },
    {
      "cell_type": "code",
      "source": [
        "import seaborn as sns\n",
        "matrix = df.corr().round(2)\n",
        "plt.figure(figsize =(10, 5))\n",
        "sns.heatmap(matrix, annot=True)\n",
        "plt.title('Correlation between Area, Production, and Yield Columns')\n",
        "plt.savefig('corrplot.png')\n",
        "plt.show()"
      ],
      "metadata": {
        "colab": {
          "base_uri": "https://localhost:8080/",
          "height": 336
        },
        "id": "MPFHxvyVKvdo",
        "outputId": "c615970e-7433-44be-ac04-c3cedd1c7b6c"
      },
      "id": "MPFHxvyVKvdo",
      "execution_count": null,
      "outputs": [
        {
          "output_type": "display_data",
          "data": {
            "text/plain": [
              "<Figure size 720x360 with 2 Axes>"
            ],
            "image/png": "[encoded data removed]"
          },
          "metadata": {
            "needs_background": "light"
          }
        }
      ]
    },
    {
      "cell_type": "code",
      "execution_count": null,
      "id": "d8e36595",
      "metadata": {
        "id": "d8e36595"
      },
      "outputs": [],
      "source": [
        "df = df.dropna()\n",
        "df = df.sort_values(ascending=False, by='Year') \n",
        "\n",
        "df = df.drop('Area Units', axis=1)\n",
        "df = df.drop('Production', axis=1)\n",
        "df = df.drop('Production Units', axis=1)\n",
        "df = df.drop('Area', axis=1)\n",
        "df = df.drop('Year', axis=1)\n",
        "\n",
        "\n",
        "# df = df[df['Year'].str.split('-').str[0].astype(int) >= 2010]"
      ]
    },
    {
      "cell_type": "markdown",
      "id": "2bd81fc1",
      "metadata": {
        "id": "2bd81fc1"
      },
      "source": [
        "#### More Cleaning and handling String Entries (using Categories)\n",
        "\n",
        "- Season cleaned up to remove disparities. \n",
        "- CSV Saved to have a Light Weight Dataset for quicker processing. \n",
        "- Converting `Year, State, Season, District, Crop` to Categorical Variables for better analysis.\n",
        "- Printing Arrays of Categorical Entries for reference "
      ]
    },
    {
      "cell_type": "code",
      "execution_count": null,
      "id": "0e4c491e",
      "metadata": {
        "scrolled": true,
        "id": "0e4c491e",
        "outputId": "614da9c7-113a-4eea-da87-629848fb7e92",
        "colab": {
          "base_uri": "https://localhost:8080/",
          "height": 909
        }
      },
      "outputs": [
        {
          "output_type": "stream",
          "name": "stdout",
          "text": [
            "Index(['Andaman and Nicobar Islands', 'Andhra Pradesh', 'Arunachal Pradesh',\n",
            "       'Assam', 'Bihar', 'Chandigarh', 'Chhattisgarh',\n",
            "       'Dadra and Nagar Haveli', 'Daman and Diu', 'Delhi', 'Goa', 'Gujarat',\n",
            "       'Haryana', 'Himachal Pradesh', 'Jammu and Kashmir', 'Jharkhand',\n",
            "       'Karnataka', 'Kerala', 'Madhya Pradesh', 'Maharashtra', 'Manipur',\n",
            "       'Meghalaya', 'Mizoram', 'Nagaland', 'Odisha', 'Puducherry', 'Punjab',\n",
            "       'Rajasthan', 'Sikkim', 'Tamil Nadu', 'Telangana', 'Tripura',\n",
            "       'Uttar Pradesh', 'Uttarakhand', 'West Bengal'],\n",
            "      dtype='object')\n",
            "Index(['24 PARAGANAS NORTH', '24 PARAGANAS SOUTH', 'ADILABAD', 'AGAR MALWA',\n",
            "       'AGRA', 'AHMADABAD', 'AHMEDNAGAR', 'AIZAWL', 'AJMER', 'AKOLA',\n",
            "       ...\n",
            "       'WEST SIANG', 'WEST SINGHBHUM', 'WEST TRIPURA', 'WOKHA', 'YADADRI',\n",
            "       'YADGIR', 'YAMUNANAGAR', 'YANAM', 'YAVATMAL', 'ZUNHEBOTO'],\n",
            "      dtype='object', length=709)\n",
            "Index(['Autumn', 'Kharif', 'Rabi', 'Summer', 'Whole Year', 'Winter'], dtype='object')\n",
            "Index(['Arecanut', 'Arhar/Tur', 'Bajra', 'Banana', 'Barley', 'Black pepper',\n",
            "       'Cardamom', 'Cashewnut', 'Castor seed', 'Coconut', 'Coriander',\n",
            "       'Cotton(lint)', 'Cowpea(Lobia)', 'Dry Ginger', 'Dry chillies', 'Garlic',\n",
            "       'Ginger', 'Gram', 'Groundnut', 'Guar seed', 'Horse-gram', 'Jowar',\n",
            "       'Jute', 'Khesari', 'Linseed', 'Maize', 'Masoor', 'Mesta',\n",
            "       'Moong(Green Gram)', 'Moth', 'Niger seed', 'Oilseeds total', 'Onion',\n",
            "       'Other Cereals', 'Other Kharif pulses', 'Other Rabi pulses',\n",
            "       'Other Summer Pulses', 'Peas & beans (Pulses)', 'Potato', 'Ragi',\n",
            "       'Rapeseed &Mustard', 'Rice', 'Safflower', 'Sannhamp', 'Sesamum',\n",
            "       'Small millets', 'Soyabean', 'Sugarcane', 'Sunflower', 'Sweet potato',\n",
            "       'Tapioca', 'Tobacco', 'Turmeric', 'Urad', 'Wheat', 'other oilseeds'],\n",
            "      dtype='object')\n"
          ]
        },
        {
          "output_type": "execute_result",
          "data": {
            "text/plain": [
              "                 State   District           Crop      Season      Yield\n",
              "287384      Tamil Nadu      KARUR          Jowar        Rabi   0.407208\n",
              "621290  Madhya Pradesh       REWA         Banana  Whole Year  35.300000\n",
              "285525        Nagaland    DIMAPUR        Sesamum      Kharif   0.617691\n",
              "285524        Nagaland  ZUNHEBOTO           Rice      Kharif   2.336540\n",
              "621340  Madhya Pradesh    ANUPPUR      Coriander  Whole Year   1.800008\n",
              "...                ...        ...            ...         ...        ...\n",
              "659314          Odisha  SAMBALPUR           Urad      Winter   0.261665\n",
              "659313          Odisha  SAMBALPUR           Urad      Summer   0.571429\n",
              "659312          Odisha  SAMBALPUR           Urad      Autumn   0.311966\n",
              "333429   Uttar Pradesh     HARDOI  Small millets      Kharif   0.777778\n",
              "321343          Odisha    BARGARH           Urad      Summer   0.357143\n",
              "\n",
              "[665684 rows x 5 columns]"
            ],
            "text/html": [
              "\n",
              "  <div id=\"df-f8954742-5143-4ad3-b9b0-4bc942bc6197\">\n",
              "    <div class=\"colab-df-container\">\n",
              "      <div>\n",
              "<style scoped>\n",
              "    .dataframe tbody tr th:only-of-type {\n",
              "        vertical-align: middle;\n",
              "    }\n",
              "\n",
              "    .dataframe tbody tr th {\n",
              "        vertical-align: top;\n",
              "    }\n",
              "\n",
              "    .dataframe thead th {\n",
              "        text-align: right;\n",
              "    }\n",
              "</style>\n",
              "<table border=\"1\" class=\"dataframe\">\n",
              "  <thead>\n",
              "    <tr style=\"text-align: right;\">\n",
              "      <th></th>\n",
              "      <th>State</th>\n",
              "      <th>District</th>\n",
              "      <th>Crop</th>\n",
              "      <th>Season</th>\n",
              "      <th>Yield</th>\n",
              "    </tr>\n",
              "  </thead>\n",
              "  <tbody>\n",
              "    <tr>\n",
              "      <th>287384</th>\n",
              "      <td>Tamil Nadu</td>\n",
              "      <td>KARUR</td>\n",
              "      <td>Jowar</td>\n",
              "      <td>Rabi</td>\n",
              "      <td>0.407208</td>\n",
              "    </tr>\n",
              "    <tr>\n",
              "      <th>621290</th>\n",
              "      <td>Madhya Pradesh</td>\n",
              "      <td>REWA</td>\n",
              "      <td>Banana</td>\n",
              "      <td>Whole Year</td>\n",
              "      <td>35.300000</td>\n",
              "    </tr>\n",
              "    <tr>\n",
              "      <th>285525</th>\n",
              "      <td>Nagaland</td>\n",
              "      <td>DIMAPUR</td>\n",
              "      <td>Sesamum</td>\n",
              "      <td>Kharif</td>\n",
              "      <td>0.617691</td>\n",
              "    </tr>\n",
              "    <tr>\n",
              "      <th>285524</th>\n",
              "      <td>Nagaland</td>\n",
              "      <td>ZUNHEBOTO</td>\n",
              "      <td>Rice</td>\n",
              "      <td>Kharif</td>\n",
              "      <td>2.336540</td>\n",
              "    </tr>\n",
              "    <tr>\n",
              "      <th>621340</th>\n",
              "      <td>Madhya Pradesh</td>\n",
              "      <td>ANUPPUR</td>\n",
              "      <td>Coriander</td>\n",
              "      <td>Whole Year</td>\n",
              "      <td>1.800008</td>\n",
              "    </tr>\n",
              "    <tr>\n",
              "      <th>...</th>\n",
              "      <td>...</td>\n",
              "      <td>...</td>\n",
              "      <td>...</td>\n",
              "      <td>...</td>\n",
              "      <td>...</td>\n",
              "    </tr>\n",
              "    <tr>\n",
              "      <th>659314</th>\n",
              "      <td>Odisha</td>\n",
              "      <td>SAMBALPUR</td>\n",
              "      <td>Urad</td>\n",
              "      <td>Winter</td>\n",
              "      <td>0.261665</td>\n",
              "    </tr>\n",
              "    <tr>\n",
              "      <th>659313</th>\n",
              "      <td>Odisha</td>\n",
              "      <td>SAMBALPUR</td>\n",
              "      <td>Urad</td>\n",
              "      <td>Summer</td>\n",
              "      <td>0.571429</td>\n",
              "    </tr>\n",
              "    <tr>\n",
              "      <th>659312</th>\n",
              "      <td>Odisha</td>\n",
              "      <td>SAMBALPUR</td>\n",
              "      <td>Urad</td>\n",
              "      <td>Autumn</td>\n",
              "      <td>0.311966</td>\n",
              "    </tr>\n",
              "    <tr>\n",
              "      <th>333429</th>\n",
              "      <td>Uttar Pradesh</td>\n",
              "      <td>HARDOI</td>\n",
              "      <td>Small millets</td>\n",
              "      <td>Kharif</td>\n",
              "      <td>0.777778</td>\n",
              "    </tr>\n",
              "    <tr>\n",
              "      <th>321343</th>\n",
              "      <td>Odisha</td>\n",
              "      <td>BARGARH</td>\n",
              "      <td>Urad</td>\n",
              "      <td>Summer</td>\n",
              "      <td>0.357143</td>\n",
              "    </tr>\n",
              "  </tbody>\n",
              "</table>\n",
              "<p>665684 rows × 5 columns</p>\n",
              "</div>\n",
              "      <button class=\"colab-df-convert\" onclick=\"convertToInteractive('df-f8954742-5143-4ad3-b9b0-4bc942bc6197')\"\n",
              "              title=\"Convert this dataframe to an interactive table.\"\n",
              "              style=\"display:none;\">\n",
              "        \n",
              "  <svg xmlns=\"http://www.w3.org/2000/svg\" height=\"24px\"viewBox=\"0 0 24 24\"\n",
              "       width=\"24px\">\n",
              "    <path d=\"M0 0h24v24H0V0z\" fill=\"none\"/>\n",
              "    <path d=\"M18.56 5.44l.94 2.06.94-2.06 2.06-.94-2.06-.94-.94-2.06-.94 2.06-2.06.94zm-11 1L8.5 8.5l.94-2.06 2.06-.94-2.06-.94L8.5 2.5l-.94 2.06-2.06.94zm10 10l.94 2.06.94-2.06 2.06-.94-2.06-.94-.94-2.06-.94 2.06-2.06.94z\"/><path d=\"M17.41 7.96l-1.37-1.37c-.4-.4-.92-.59-1.43-.59-.52 0-1.04.2-1.43.59L10.3 9.45l-7.72 7.72c-.78.78-.78 2.05 0 2.83L4 21.41c.39.39.9.59 1.41.59.51 0 1.02-.2 1.41-.59l7.78-7.78 2.81-2.81c.8-.78.8-2.07 0-2.86zM5.41 20L4 18.59l7.72-7.72 1.47 1.35L5.41 20z\"/>\n",
              "  </svg>\n",
              "      </button>\n",
              "      \n",
              "  <style>\n",
              "    .colab-df-container {\n",
              "      display:flex;\n",
              "      flex-wrap:wrap;\n",
              "      gap: 12px;\n",
              "    }\n",
              "\n",
              "    .colab-df-convert {\n",
              "      background-color: #E8F0FE;\n",
              "      border: none;\n",
              "      border-radius: 50%;\n",
              "      cursor: pointer;\n",
              "      display: none;\n",
              "      fill: #1967D2;\n",
              "      height: 32px;\n",
              "      padding: 0 0 0 0;\n",
              "      width: 32px;\n",
              "    }\n",
              "\n",
              "    .colab-df-convert:hover {\n",
              "      background-color: #E2EBFA;\n",
              "      box-shadow: 0px 1px 2px rgba(60, 64, 67, 0.3), 0px 1px 3px 1px rgba(60, 64, 67, 0.15);\n",
              "      fill: #174EA6;\n",
              "    }\n",
              "\n",
              "    [theme=dark] .colab-df-convert {\n",
              "      background-color: #3B4455;\n",
              "      fill: #D2E3FC;\n",
              "    }\n",
              "\n",
              "    [theme=dark] .colab-df-convert:hover {\n",
              "      background-color: #434B5C;\n",
              "      box-shadow: 0px 1px 3px 1px rgba(0, 0, 0, 0.15);\n",
              "      filter: drop-shadow(0px 1px 2px rgba(0, 0, 0, 0.3));\n",
              "      fill: #FFFFFF;\n",
              "    }\n",
              "  </style>\n",
              "\n",
              "      <script>\n",
              "        const buttonEl =\n",
              "          document.querySelector('#df-f8954742-5143-4ad3-b9b0-4bc942bc6197 button.colab-df-convert');\n",
              "        buttonEl.style.display =\n",
              "          google.colab.kernel.accessAllowed ? 'block' : 'none';\n",
              "\n",
              "        async function convertToInteractive(key) {\n",
              "          const element = document.querySelector('#df-f8954742-5143-4ad3-b9b0-4bc942bc6197');\n",
              "          const dataTable =\n",
              "            await google.colab.kernel.invokeFunction('convertToInteractive',\n",
              "                                                     [key], {});\n",
              "          if (!dataTable) return;\n",
              "\n",
              "          const docLinkHtml = 'Like what you see? Visit the ' +\n",
              "            '<a target=\"_blank\" href=https://colab.research.google.com/notebooks/data_table.ipynb>data table notebook</a>'\n",
              "            + ' to learn more about interactive tables.';\n",
              "          element.innerHTML = '';\n",
              "          dataTable['output_type'] = 'display_data';\n",
              "          await google.colab.output.renderOutput(dataTable, element);\n",
              "          const docLink = document.createElement('div');\n",
              "          docLink.innerHTML = docLinkHtml;\n",
              "          element.appendChild(docLink);\n",
              "        }\n",
              "      </script>\n",
              "    </div>\n",
              "  </div>\n",
              "  "
            ]
          },
          "metadata": {},
          "execution_count": 37
        }
      ],
      "source": [
        "# df = df.replace({'Season':{'Autumn':'Kharif','Summer':'Zaid','Winter':'Rabi'}})\n",
        "\n",
        "df.to_csv('yield_cleaned_2.csv')\n",
        "\n",
        "# df['Year'] = pd.Categorical(df['Year'], ordered = True)\n",
        "df['State'] = pd.Categorical(df['State'], ordered = True)\n",
        "df['District'] = pd.Categorical(df['District'], ordered = True)\n",
        "df['Season'] = pd.Categorical(df['Season'], ordered = True)\n",
        "df['Crop'] = pd.Categorical(df['Crop'], ordered = True)\n",
        "\n",
        "# print (df['Year'].cat.categories)\n",
        "print (df['State'].cat.categories)\n",
        "print (df['District'].cat.categories)\n",
        "print (df['Season'].cat.categories)\n",
        "print (df['Crop'].cat.categories)\n",
        "\n",
        "df"
      ]
    },
    {
      "cell_type": "markdown",
      "id": "8fab4d5a",
      "metadata": {
        "id": "8fab4d5a"
      },
      "source": [
        "#### Converting Categorical Columns to Integer Codes"
      ]
    },
    {
      "cell_type": "code",
      "execution_count": null,
      "id": "4362afa7",
      "metadata": {
        "id": "4362afa7",
        "outputId": "f7b5b950-2e53-4177-eb54-b06a2c08c145",
        "colab": {
          "base_uri": "https://localhost:8080/",
          "height": 423
        }
      },
      "outputs": [
        {
          "output_type": "execute_result",
          "data": {
            "text/plain": [
              "        State  District  Crop  Season      Yield\n",
              "287384     29       325    21       2   0.407208\n",
              "621290     18       544     3       4  35.300000\n",
              "285525     23       173    44       1   0.617691\n",
              "285524     23       708    41       1   2.336540\n",
              "621340     18        29    10       4   1.800008\n",
              "...       ...       ...   ...     ...        ...\n",
              "659314     24       561    53       5   0.261665\n",
              "659313     24       561    53       3   0.571429\n",
              "659312     24       561    53       0   0.311966\n",
              "333429     32       244    45       1   0.777778\n",
              "321343     24        63    53       3   0.357143\n",
              "\n",
              "[665684 rows x 5 columns]"
            ],
            "text/html": [
              "\n",
              "  <div id=\"df-f3458d65-4c0b-40c2-8150-166d32b170d2\">\n",
              "    <div class=\"colab-df-container\">\n",
              "      <div>\n",
              "<style scoped>\n",
              "    .dataframe tbody tr th:only-of-type {\n",
              "        vertical-align: middle;\n",
              "    }\n",
              "\n",
              "    .dataframe tbody tr th {\n",
              "        vertical-align: top;\n",
              "    }\n",
              "\n",
              "    .dataframe thead th {\n",
              "        text-align: right;\n",
              "    }\n",
              "</style>\n",
              "<table border=\"1\" class=\"dataframe\">\n",
              "  <thead>\n",
              "    <tr style=\"text-align: right;\">\n",
              "      <th></th>\n",
              "      <th>State</th>\n",
              "      <th>District</th>\n",
              "      <th>Crop</th>\n",
              "      <th>Season</th>\n",
              "      <th>Yield</th>\n",
              "    </tr>\n",
              "  </thead>\n",
              "  <tbody>\n",
              "    <tr>\n",
              "      <th>287384</th>\n",
              "      <td>29</td>\n",
              "      <td>325</td>\n",
              "      <td>21</td>\n",
              "      <td>2</td>\n",
              "      <td>0.407208</td>\n",
              "    </tr>\n",
              "    <tr>\n",
              "      <th>621290</th>\n",
              "      <td>18</td>\n",
              "      <td>544</td>\n",
              "      <td>3</td>\n",
              "      <td>4</td>\n",
              "      <td>35.300000</td>\n",
              "    </tr>\n",
              "    <tr>\n",
              "      <th>285525</th>\n",
              "      <td>23</td>\n",
              "      <td>173</td>\n",
              "      <td>44</td>\n",
              "      <td>1</td>\n",
              "      <td>0.617691</td>\n",
              "    </tr>\n",
              "    <tr>\n",
              "      <th>285524</th>\n",
              "      <td>23</td>\n",
              "      <td>708</td>\n",
              "      <td>41</td>\n",
              "      <td>1</td>\n",
              "      <td>2.336540</td>\n",
              "    </tr>\n",
              "    <tr>\n",
              "      <th>621340</th>\n",
              "      <td>18</td>\n",
              "      <td>29</td>\n",
              "      <td>10</td>\n",
              "      <td>4</td>\n",
              "      <td>1.800008</td>\n",
              "    </tr>\n",
              "    <tr>\n",
              "      <th>...</th>\n",
              "      <td>...</td>\n",
              "      <td>...</td>\n",
              "      <td>...</td>\n",
              "      <td>...</td>\n",
              "      <td>...</td>\n",
              "    </tr>\n",
              "    <tr>\n",
              "      <th>659314</th>\n",
              "      <td>24</td>\n",
              "      <td>561</td>\n",
              "      <td>53</td>\n",
              "      <td>5</td>\n",
              "      <td>0.261665</td>\n",
              "    </tr>\n",
              "    <tr>\n",
              "      <th>659313</th>\n",
              "      <td>24</td>\n",
              "      <td>561</td>\n",
              "      <td>53</td>\n",
              "      <td>3</td>\n",
              "      <td>0.571429</td>\n",
              "    </tr>\n",
              "    <tr>\n",
              "      <th>659312</th>\n",
              "      <td>24</td>\n",
              "      <td>561</td>\n",
              "      <td>53</td>\n",
              "      <td>0</td>\n",
              "      <td>0.311966</td>\n",
              "    </tr>\n",
              "    <tr>\n",
              "      <th>333429</th>\n",
              "      <td>32</td>\n",
              "      <td>244</td>\n",
              "      <td>45</td>\n",
              "      <td>1</td>\n",
              "      <td>0.777778</td>\n",
              "    </tr>\n",
              "    <tr>\n",
              "      <th>321343</th>\n",
              "      <td>24</td>\n",
              "      <td>63</td>\n",
              "      <td>53</td>\n",
              "      <td>3</td>\n",
              "      <td>0.357143</td>\n",
              "    </tr>\n",
              "  </tbody>\n",
              "</table>\n",
              "<p>665684 rows × 5 columns</p>\n",
              "</div>\n",
              "      <button class=\"colab-df-convert\" onclick=\"convertToInteractive('df-f3458d65-4c0b-40c2-8150-166d32b170d2')\"\n",
              "              title=\"Convert this dataframe to an interactive table.\"\n",
              "              style=\"display:none;\">\n",
              "        \n",
              "  <svg xmlns=\"http://www.w3.org/2000/svg\" height=\"24px\"viewBox=\"0 0 24 24\"\n",
              "       width=\"24px\">\n",
              "    <path d=\"M0 0h24v24H0V0z\" fill=\"none\"/>\n",
              "    <path d=\"M18.56 5.44l.94 2.06.94-2.06 2.06-.94-2.06-.94-.94-2.06-.94 2.06-2.06.94zm-11 1L8.5 8.5l.94-2.06 2.06-.94-2.06-.94L8.5 2.5l-.94 2.06-2.06.94zm10 10l.94 2.06.94-2.06 2.06-.94-2.06-.94-.94-2.06-.94 2.06-2.06.94z\"/><path d=\"M17.41 7.96l-1.37-1.37c-.4-.4-.92-.59-1.43-.59-.52 0-1.04.2-1.43.59L10.3 9.45l-7.72 7.72c-.78.78-.78 2.05 0 2.83L4 21.41c.39.39.9.59 1.41.59.51 0 1.02-.2 1.41-.59l7.78-7.78 2.81-2.81c.8-.78.8-2.07 0-2.86zM5.41 20L4 18.59l7.72-7.72 1.47 1.35L5.41 20z\"/>\n",
              "  </svg>\n",
              "      </button>\n",
              "      \n",
              "  <style>\n",
              "    .colab-df-container {\n",
              "      display:flex;\n",
              "      flex-wrap:wrap;\n",
              "      gap: 12px;\n",
              "    }\n",
              "\n",
              "    .colab-df-convert {\n",
              "      background-color: #E8F0FE;\n",
              "      border: none;\n",
              "      border-radius: 50%;\n",
              "      cursor: pointer;\n",
              "      display: none;\n",
              "      fill: #1967D2;\n",
              "      height: 32px;\n",
              "      padding: 0 0 0 0;\n",
              "      width: 32px;\n",
              "    }\n",
              "\n",
              "    .colab-df-convert:hover {\n",
              "      background-color: #E2EBFA;\n",
              "      box-shadow: 0px 1px 2px rgba(60, 64, 67, 0.3), 0px 1px 3px 1px rgba(60, 64, 67, 0.15);\n",
              "      fill: #174EA6;\n",
              "    }\n",
              "\n",
              "    [theme=dark] .colab-df-convert {\n",
              "      background-color: #3B4455;\n",
              "      fill: #D2E3FC;\n",
              "    }\n",
              "\n",
              "    [theme=dark] .colab-df-convert:hover {\n",
              "      background-color: #434B5C;\n",
              "      box-shadow: 0px 1px 3px 1px rgba(0, 0, 0, 0.15);\n",
              "      filter: drop-shadow(0px 1px 2px rgba(0, 0, 0, 0.3));\n",
              "      fill: #FFFFFF;\n",
              "    }\n",
              "  </style>\n",
              "\n",
              "      <script>\n",
              "        const buttonEl =\n",
              "          document.querySelector('#df-f3458d65-4c0b-40c2-8150-166d32b170d2 button.colab-df-convert');\n",
              "        buttonEl.style.display =\n",
              "          google.colab.kernel.accessAllowed ? 'block' : 'none';\n",
              "\n",
              "        async function convertToInteractive(key) {\n",
              "          const element = document.querySelector('#df-f3458d65-4c0b-40c2-8150-166d32b170d2');\n",
              "          const dataTable =\n",
              "            await google.colab.kernel.invokeFunction('convertToInteractive',\n",
              "                                                     [key], {});\n",
              "          if (!dataTable) return;\n",
              "\n",
              "          const docLinkHtml = 'Like what you see? Visit the ' +\n",
              "            '<a target=\"_blank\" href=https://colab.research.google.com/notebooks/data_table.ipynb>data table notebook</a>'\n",
              "            + ' to learn more about interactive tables.';\n",
              "          element.innerHTML = '';\n",
              "          dataTable['output_type'] = 'display_data';\n",
              "          await google.colab.output.renderOutput(dataTable, element);\n",
              "          const docLink = document.createElement('div');\n",
              "          docLink.innerHTML = docLinkHtml;\n",
              "          element.appendChild(docLink);\n",
              "        }\n",
              "      </script>\n",
              "    </div>\n",
              "  </div>\n",
              "  "
            ]
          },
          "metadata": {},
          "execution_count": 38
        }
      ],
      "source": [
        "cat_columns = df.select_dtypes(['category']).columns\n",
        "df[cat_columns] = df[cat_columns].apply(lambda x: x.cat.codes)\n",
        "\n",
        "df.to_csv('yield_processing_1.csv')\n",
        "\n",
        "df"
      ]
    },
    {
      "cell_type": "code",
      "source": [
        "df.nunique()\n",
        "df.info()"
      ],
      "metadata": {
        "colab": {
          "base_uri": "https://localhost:8080/"
        },
        "id": "sw5kkVrIVfpx",
        "outputId": "cdd0d25c-e983-46e6-a16e-25ec292661c7"
      },
      "id": "sw5kkVrIVfpx",
      "execution_count": null,
      "outputs": [
        {
          "output_type": "stream",
          "name": "stdout",
          "text": [
            "<class 'pandas.core.frame.DataFrame'>\n",
            "Int64Index: 665684 entries, 287384 to 321343\n",
            "Data columns (total 5 columns):\n",
            " #   Column    Non-Null Count   Dtype  \n",
            "---  ------    --------------   -----  \n",
            " 0   State     665684 non-null  int8   \n",
            " 1   District  665684 non-null  int16  \n",
            " 2   Crop      665684 non-null  int8   \n",
            " 3   Season    665684 non-null  int8   \n",
            " 4   Yield     665684 non-null  float64\n",
            "dtypes: float64(1), int16(1), int8(3)\n",
            "memory usage: 13.3 MB\n"
          ]
        }
      ]
    },
    {
      "cell_type": "markdown",
      "id": "d767f744",
      "metadata": {
        "id": "d767f744"
      },
      "source": [
        "#### Finally Dividing the Data into Two parts and doing the ML part"
      ]
    },
    {
      "cell_type": "code",
      "source": [
        "from sklearn.metrics import mean_absolute_error, mean_squared_error, r2_score\n",
        "\n",
        "def scores_print(name_of_regr, regr, x_test, y_test):\n",
        "  y_pred = regr.predict(x_test)\n",
        "  mae = mean_absolute_error(y_test, y_pred)\n",
        "  mse = mean_squared_error(y_test,y_pred)\n",
        "  r2 = r2_score(y_test,y_pred)\n",
        "  print(name_of_regr + \" MAE : {:.3f} | MSE : {:.3f} | R^2 Score : {:.5f}\".format(mae, mse, r2))"
      ],
      "metadata": {
        "id": "DQZA2aLmM7TA"
      },
      "id": "DQZA2aLmM7TA",
      "execution_count": null,
      "outputs": []
    },
    {
      "cell_type": "code",
      "execution_count": null,
      "id": "5f645e4e",
      "metadata": {
        "id": "5f645e4e"
      },
      "outputs": [],
      "source": [
        "X = df.drop(columns=['Yield'], axis=1)\n",
        "Y = df['Yield']\n",
        "X_train, X_test, Y_train, Y_test = train_test_split(X, Y, test_size = .20, random_state=42)"
      ]
    },
    {
      "cell_type": "code",
      "source": [
        "from sklearn.linear_model import LinearRegression\n",
        "from sklearn.ensemble import RandomForestRegressor\n",
        "from sklearn.neighbors import KNeighborsRegressor\n",
        "from sklearn.ensemble import VotingRegressor\n",
        "\n",
        "r4 = DecisionTreeRegressor(max_depth = 7)"
      ],
      "metadata": {
        "id": "BjC4vyvEPyEZ"
      },
      "id": "BjC4vyvEPyEZ",
      "execution_count": null,
      "outputs": []
    },
    {
      "cell_type": "code",
      "source": [
        "r4.fit(X_train, Y_train)\n",
        "scores_print('DTR', r4, X_test, Y_test)"
      ],
      "metadata": {
        "colab": {
          "base_uri": "https://localhost:8080/"
        },
        "id": "scj_nLWKR86u",
        "outputId": "dd95742d-0779-4f58-f08a-c4c4f4ff8c11"
      },
      "id": "scj_nLWKR86u",
      "execution_count": null,
      "outputs": [
        {
          "output_type": "stream",
          "name": "stdout",
          "text": [
            "DTR MAE : 25.307 | MSE : 113276.392 | R^2 Score : 0.86803\n"
          ]
        }
      ]
    },
    {
      "cell_type": "code",
      "source": [
        "from sklearn.ensemble import AdaBoostRegressor\n",
        "adaregr = AdaBoostRegressor(base_estimator = r4, random_state=42, n_estimators=10)\n",
        "adaregr.fit(X_train, Y_train)"
      ],
      "metadata": {
        "colab": {
          "base_uri": "https://localhost:8080/"
        },
        "id": "bWMWyYcqVFTs",
        "outputId": "6ef72c5c-3d25-42a4-ec54-1c8191129441"
      },
      "id": "bWMWyYcqVFTs",
      "execution_count": null,
      "outputs": [
        {
          "output_type": "execute_result",
          "data": {
            "text/plain": [
              "AdaBoostRegressor(base_estimator=DecisionTreeRegressor(max_depth=7),\n",
              "                  n_estimators=10, random_state=42)"
            ]
          },
          "metadata": {},
          "execution_count": 50
        }
      ]
    },
    {
      "cell_type": "code",
      "source": [
        "scores_print('AdaBoostRegressor', adaregr, X_test, Y_test)"
      ],
      "metadata": {
        "colab": {
          "base_uri": "https://localhost:8080/"
        },
        "id": "ctUCMdOjW0kB",
        "outputId": "1d65d270-cb8e-4d05-f936-fbc2f1b397da"
      },
      "id": "ctUCMdOjW0kB",
      "execution_count": null,
      "outputs": [
        {
          "output_type": "stream",
          "name": "stdout",
          "text": [
            "AdaBoostRegressor MAE : 29.354 | MSE : 144676.655 | R^2 Score : 0.83145\n"
          ]
        }
      ]
    },
    {
      "cell_type": "code",
      "source": [
        "from sklearn.ensemble import BaggingRegressor\n",
        "bag_regr = BaggingRegressor(base_estimator = r4, n_estimators=10, random_state=42)\n",
        "bag_regr.fit(X_train, Y_train)"
      ],
      "metadata": {
        "colab": {
          "base_uri": "https://localhost:8080/"
        },
        "id": "cG6EmALCloQW",
        "outputId": "5ef0b35f-d82a-4b47-d06a-3a2bbb3c8c9a"
      },
      "id": "cG6EmALCloQW",
      "execution_count": null,
      "outputs": [
        {
          "output_type": "execute_result",
          "data": {
            "text/plain": [
              "BaggingRegressor(base_estimator=DecisionTreeRegressor(max_depth=7),\n",
              "                 random_state=42)"
            ]
          },
          "metadata": {},
          "execution_count": 52
        }
      ]
    },
    {
      "cell_type": "code",
      "source": [
        "scores_print('Bagging Regressor with DT 10 Depth', bag_regr, X_test, Y_test)"
      ],
      "metadata": {
        "colab": {
          "base_uri": "https://localhost:8080/"
        },
        "id": "Plx8A05ylzls",
        "outputId": "53d1dc59-a36e-4527-91f7-4637d6bdeefe"
      },
      "id": "Plx8A05ylzls",
      "execution_count": null,
      "outputs": [
        {
          "output_type": "stream",
          "name": "stdout",
          "text": [
            "Bagging Regressor with DT 10 Depth MAE : 24.904 | MSE : 109407.829 | R^2 Score : 0.87254\n"
          ]
        }
      ]
    },
    {
      "cell_type": "code",
      "source": [
        "from sklearn.ensemble import StackingRegressor\n",
        "\n",
        "dtr7 = DecisionTreeRegressor(max_depth = 7)\n",
        "\n",
        "estimators2 = [\n",
        "    ('bag', bag_regr),\n",
        "    ('adab', adaregr),\n",
        "]\n",
        "\n",
        "sregr2 = StackingRegressor(estimators2, final_estimator=dtr7)\n",
        "sregr2.fit(X_train, Y_train)"
      ],
      "metadata": {
        "colab": {
          "base_uri": "https://localhost:8080/"
        },
        "id": "hWm0ztUznLnW",
        "outputId": "511ce8b9-60b5-44f7-862c-48d01d01ada1"
      },
      "id": "hWm0ztUznLnW",
      "execution_count": null,
      "outputs": [
        {
          "output_type": "execute_result",
          "data": {
            "text/plain": [
              "StackingRegressor(estimators=[('bag',\n",
              "                               BaggingRegressor(base_estimator=DecisionTreeRegressor(max_depth=7),\n",
              "                                                random_state=42)),\n",
              "                              ('adab',\n",
              "                               AdaBoostRegressor(base_estimator=DecisionTreeRegressor(max_depth=7),\n",
              "                                                 n_estimators=10,\n",
              "                                                 random_state=42))],\n",
              "                  final_estimator=DecisionTreeRegressor(max_depth=7))"
            ]
          },
          "metadata": {},
          "execution_count": 54
        }
      ]
    },
    {
      "cell_type": "code",
      "source": [
        "scores_print('Stacking Regressor without DT Training', sregr2, X_train, Y_train)\n",
        "scores_print('Stacking Regressor without DT', sregr2, X_test, Y_test)"
      ],
      "metadata": {
        "colab": {
          "base_uri": "https://localhost:8080/"
        },
        "id": "QDt_Bo1TnVWe",
        "outputId": "36a72dc8-8fb3-4adf-913c-72b7a0549dc2"
      },
      "id": "QDt_Bo1TnVWe",
      "execution_count": null,
      "outputs": [
        {
          "output_type": "stream",
          "name": "stdout",
          "text": [
            "Stacking Regressor without DT Training MAE : 25.832 | MSE : 127871.705 | R^2 Score : 0.85385\n",
            "Stacking Regressor without DT MAE : 25.936 | MSE : 120813.152 | R^2 Score : 0.85925\n"
          ]
        }
      ]
    },
    {
      "cell_type": "code",
      "source": [
        "import matplotlib.pyplot as plt\n",
        "\n",
        "train_scores = []\n",
        "test_scores = []\n",
        "for i in range(20):\n",
        "    rn = DecisionTreeRegressor(max_depth=i+1)\n",
        "    rn.fit(X_train, Y_train)\n",
        "    y_pred = rn.predict(X_test)\n",
        "    y_train_pred = rn.predict(X_train)\n",
        "    r2 = r2_score(Y_test, y_pred)\n",
        "    r2_train = r2_score(Y_train, y_train_pred)\n",
        "    train_scores.append(r2_train)\n",
        "    test_scores.append(r2)\n"
      ],
      "metadata": {
        "id": "A1h7JD3-tLlC"
      },
      "id": "A1h7JD3-tLlC",
      "execution_count": null,
      "outputs": []
    },
    {
      "cell_type": "code",
      "source": [
        "fig, ax = plt.subplots(figsize=(12, 8))\n",
        "\n",
        "# Plot the data\n",
        "ax.plot(range(1, 21), train_scores, label='Training R^2 Score')\n",
        "ax.plot(range(1, 21), test_scores, label='Testing R^2 Score')\n",
        "\n",
        "# Set the x and y labels\n",
        "ax.set_xlabel('Max Depth')\n",
        "ax.set_ylabel('R2 Score')\n",
        "\n",
        "# Set the plot title\n",
        "fig.suptitle('Decision Tree Regressor R^2 Scores for Different Tree Max-Depths', fontsize=16)\n",
        "\n",
        "# Set the legend\n",
        "ax.legend()\n",
        "\n",
        "# Set the x-axis ticks and limits\n",
        "ax.set_xticks(range(1, 21, 1))\n",
        "ax.set_xlim(3, 20)\n",
        "\n",
        "# Set the y-axis limits\n",
        "ax.set_ylim(0.85, 0.91)\n",
        "\n",
        "# Adjust the margins to add padding between the title and the graph\n",
        "fig.subplots_adjust(top=0.92)\n",
        "\n",
        "# Save the plot to a file\n",
        "plt.savefig('fitcheck.png', dpi=300)\n",
        "\n",
        "# Show the plot\n",
        "plt.show()"
      ],
      "metadata": {
        "colab": {
          "base_uri": "https://localhost:8080/",
          "height": 554
        },
        "id": "rkboqxfWvT5J",
        "outputId": "4fdb51cb-8036-4cfc-857f-b31bbb6dcb7a"
      },
      "id": "rkboqxfWvT5J",
      "execution_count": null,
      "outputs": [
        {
          "output_type": "display_data",
          "data": {
            "text/plain": [
              "<Figure size 864x576 with 1 Axes>"
            ],
            "image/png": "[encoded data removed]"
          },
          "metadata": {
            "needs_background": "light"
          }
        }
      ]
    },
    {
      "cell_type": "code",
      "source": [],
      "metadata": {
        "id": "khAoVCLMSv0I"
      },
      "id": "khAoVCLMSv0I",
      "execution_count": null,
      "outputs": []
    },
    {
      "cell_type": "code",
      "source": [
        "import matplotlib.pyplot as plt\n",
        "\n",
        "train_scores = []\n",
        "test_scores = []\n",
        "\n",
        "estimators2 = [\n",
        "  ('bag', bag_regr),\n",
        "  ('adab', adaregr),\n",
        "]\n",
        "\n",
        "for i in range(10):\n",
        "  dtr7 = DecisionTreeRegressor(max_depth=i+1)\n",
        "  sregr2 = StackingRegressor(estimators2, final_estimator=dtr7)\n",
        "  sregr2.fit(X_train, Y_train)\n",
        "  y_pred = sregr2.predict(X_test)\n",
        "  y_train_pred = sregr2.predict(X_train)\n",
        "  r2 = r2_score(Y_test, y_pred)\n",
        "  r2_train = r2_score(Y_train, y_train_pred)\n",
        "  train_scores.append(r2_train)\n",
        "  test_scores.append(r2)"
      ],
      "metadata": {
        "id": "ISvyigXQ3Omf"
      },
      "id": "ISvyigXQ3Omf",
      "execution_count": null,
      "outputs": []
    },
    {
      "cell_type": "code",
      "source": [
        "plt.plot(range(1, 11), train_scores, label='Stacking Training R2')\n",
        "plt.plot(range(1, 11), test_scores, label='Stacking Testing R2')\n",
        "plt.xlabel('Generalized DTR Max Depth')\n",
        "plt.ylabel('R2 Score')\n",
        "plt.legend()\n",
        "plt.xticks(range(1, 11, 1))\n",
        "plt.xlim(1, 10)  # Set y-axis limits\n",
        "plt.ylim(0.85, 0.92)  # Set y-axis limits\n",
        "plt.show()"
      ],
      "metadata": {
        "colab": {
          "base_uri": "https://localhost:8080/",
          "height": 283
        },
        "id": "HRhWfI3C3hXO",
        "outputId": "a0d1bd0d-c73b-4c47-c672-8233fd8f127c"
      },
      "id": "HRhWfI3C3hXO",
      "execution_count": null,
      "outputs": [
        {
          "output_type": "display_data",
          "data": {
            "text/plain": [
              "<Figure size 432x288 with 1 Axes>"
            ],
            "image/png": "[encoded data removed]"
          },
          "metadata": {
            "needs_background": "light"
          }
        }
      ]
    }
  ],
  "metadata": {
    "kernelspec": {
      "display_name": "Python 3 (ipykernel)",
      "language": "python",
      "name": "python3"
    },
    "language_info": {
      "codemirror_mode": {
        "name": "ipython",
        "version": 3
      },
      "file_extension": ".py",
      "mimetype": "text/x-python",
      "name": "python",
      "nbconvert_exporter": "python",
      "pygments_lexer": "ipython3",
      "version": "3.9.7"
    },
    "colab": {
      "provenance": [],
      "include_colab_link": true
    }
  },
  "nbformat": 4,
  "nbformat_minor": 5
}